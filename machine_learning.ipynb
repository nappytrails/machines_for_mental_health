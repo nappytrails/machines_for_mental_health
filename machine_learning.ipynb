{
 "cells": [
  {
   "cell_type": "code",
   "execution_count": 66,
   "id": "3c0ffb09-1b0d-4f8b-95f4-fff7cb60e077",
   "metadata": {},
   "outputs": [],
   "source": [
    "# Import dependencies\n",
    "%matplotlib inline\n",
    "import pandas as pd\n",
    "from matplotlib import pyplot as plt\n",
    "import seaborn as sns\n",
    "import numpy as np\n",
    "from sklearn.model_selection import train_test_split\n",
    "from sklearn.preprocessing import StandardScaler\n",
    "from sklearn.linear_model import LogisticRegression\n",
    "from sklearn.datasets import make_classification\n",
    "from sklearn.metrics import confusion_matrix, ConfusionMatrixDisplay\n",
    "from sklearn.neighbors import KNeighborsClassifier\n",
    "from sklearn.ensemble import RandomForestClassifier\n",
    "from sklearn.model_selection import GridSearchCV\n",
    "from sklearn.svm import SVC\n",
    "from sklearn.metrics import classification_report\n",
    "import pickle\n",
    "import os"
   ]
  },
  {
   "cell_type": "code",
   "execution_count": 67,
   "id": "0842314b-512c-4867-99f0-30ed9fe29fc9",
   "metadata": {},
   "outputs": [],
   "source": [
    "# Create folder for scaler and final machine learning model\n",
    "\n",
    "path = \"ML\"\n",
    "\n",
    "try: \n",
    "    os.mkdir(path) \n",
    "except OSError as error: \n",
    "    print(\"Oops, the folder already exists!\") "
   ]
  },
  {
   "cell_type": "code",
   "execution_count": 2,
   "id": "6acfd517-f3ba-4248-8872-b8a83e5798f7",
   "metadata": {
    "tags": []
   },
   "outputs": [
    {
     "data": {
      "text/html": [
       "<div>\n",
       "<style scoped>\n",
       "    .dataframe tbody tr th:only-of-type {\n",
       "        vertical-align: middle;\n",
       "    }\n",
       "\n",
       "    .dataframe tbody tr th {\n",
       "        vertical-align: top;\n",
       "    }\n",
       "\n",
       "    .dataframe thead th {\n",
       "        text-align: right;\n",
       "    }\n",
       "</style>\n",
       "<table border=\"1\" class=\"dataframe\">\n",
       "  <thead>\n",
       "    <tr style=\"text-align: right;\">\n",
       "      <th></th>\n",
       "      <th>id</th>\n",
       "      <th>Age</th>\n",
       "      <th>Gender</th>\n",
       "      <th>Country</th>\n",
       "      <th>state</th>\n",
       "      <th>self_employed</th>\n",
       "      <th>family_history</th>\n",
       "      <th>treatment</th>\n",
       "      <th>remote_work</th>\n",
       "      <th>tech_company</th>\n",
       "    </tr>\n",
       "  </thead>\n",
       "  <tbody>\n",
       "    <tr>\n",
       "      <th>0</th>\n",
       "      <td>0</td>\n",
       "      <td>37</td>\n",
       "      <td>Female</td>\n",
       "      <td>United States</td>\n",
       "      <td>IL</td>\n",
       "      <td>No</td>\n",
       "      <td>No</td>\n",
       "      <td>Yes</td>\n",
       "      <td>No</td>\n",
       "      <td>Yes</td>\n",
       "    </tr>\n",
       "    <tr>\n",
       "      <th>1</th>\n",
       "      <td>1</td>\n",
       "      <td>44</td>\n",
       "      <td>Male</td>\n",
       "      <td>United States</td>\n",
       "      <td>IN</td>\n",
       "      <td>No</td>\n",
       "      <td>No</td>\n",
       "      <td>No</td>\n",
       "      <td>No</td>\n",
       "      <td>No</td>\n",
       "    </tr>\n",
       "    <tr>\n",
       "      <th>2</th>\n",
       "      <td>2</td>\n",
       "      <td>32</td>\n",
       "      <td>Male</td>\n",
       "      <td>Others</td>\n",
       "      <td>Non US</td>\n",
       "      <td>No</td>\n",
       "      <td>No</td>\n",
       "      <td>No</td>\n",
       "      <td>No</td>\n",
       "      <td>Yes</td>\n",
       "    </tr>\n",
       "    <tr>\n",
       "      <th>3</th>\n",
       "      <td>3</td>\n",
       "      <td>31</td>\n",
       "      <td>Male</td>\n",
       "      <td>Others</td>\n",
       "      <td>Non US</td>\n",
       "      <td>No</td>\n",
       "      <td>Yes</td>\n",
       "      <td>Yes</td>\n",
       "      <td>No</td>\n",
       "      <td>Yes</td>\n",
       "    </tr>\n",
       "    <tr>\n",
       "      <th>4</th>\n",
       "      <td>4</td>\n",
       "      <td>31</td>\n",
       "      <td>Male</td>\n",
       "      <td>United States</td>\n",
       "      <td>TX</td>\n",
       "      <td>No</td>\n",
       "      <td>No</td>\n",
       "      <td>No</td>\n",
       "      <td>Yes</td>\n",
       "      <td>Yes</td>\n",
       "    </tr>\n",
       "    <tr>\n",
       "      <th>...</th>\n",
       "      <td>...</td>\n",
       "      <td>...</td>\n",
       "      <td>...</td>\n",
       "      <td>...</td>\n",
       "      <td>...</td>\n",
       "      <td>...</td>\n",
       "      <td>...</td>\n",
       "      <td>...</td>\n",
       "      <td>...</td>\n",
       "      <td>...</td>\n",
       "    </tr>\n",
       "    <tr>\n",
       "      <th>1238</th>\n",
       "      <td>1254</td>\n",
       "      <td>26</td>\n",
       "      <td>Male</td>\n",
       "      <td>Others</td>\n",
       "      <td>Non US</td>\n",
       "      <td>No</td>\n",
       "      <td>No</td>\n",
       "      <td>Yes</td>\n",
       "      <td>No</td>\n",
       "      <td>Yes</td>\n",
       "    </tr>\n",
       "    <tr>\n",
       "      <th>1239</th>\n",
       "      <td>1255</td>\n",
       "      <td>32</td>\n",
       "      <td>Male</td>\n",
       "      <td>United States</td>\n",
       "      <td>IL</td>\n",
       "      <td>No</td>\n",
       "      <td>Yes</td>\n",
       "      <td>Yes</td>\n",
       "      <td>Yes</td>\n",
       "      <td>Yes</td>\n",
       "    </tr>\n",
       "    <tr>\n",
       "      <th>1240</th>\n",
       "      <td>1256</td>\n",
       "      <td>34</td>\n",
       "      <td>Male</td>\n",
       "      <td>United States</td>\n",
       "      <td>CA</td>\n",
       "      <td>No</td>\n",
       "      <td>Yes</td>\n",
       "      <td>Yes</td>\n",
       "      <td>No</td>\n",
       "      <td>Yes</td>\n",
       "    </tr>\n",
       "    <tr>\n",
       "      <th>1241</th>\n",
       "      <td>1257</td>\n",
       "      <td>46</td>\n",
       "      <td>Female</td>\n",
       "      <td>United States</td>\n",
       "      <td>NC</td>\n",
       "      <td>No</td>\n",
       "      <td>No</td>\n",
       "      <td>No</td>\n",
       "      <td>Yes</td>\n",
       "      <td>Yes</td>\n",
       "    </tr>\n",
       "    <tr>\n",
       "      <th>1242</th>\n",
       "      <td>1258</td>\n",
       "      <td>25</td>\n",
       "      <td>Male</td>\n",
       "      <td>United States</td>\n",
       "      <td>IL</td>\n",
       "      <td>No</td>\n",
       "      <td>Yes</td>\n",
       "      <td>Yes</td>\n",
       "      <td>No</td>\n",
       "      <td>No</td>\n",
       "    </tr>\n",
       "  </tbody>\n",
       "</table>\n",
       "<p>1243 rows × 10 columns</p>\n",
       "</div>"
      ],
      "text/plain": [
       "        id  Age  Gender        Country   state self_employed family_history  \\\n",
       "0        0   37  Female  United States      IL            No             No   \n",
       "1        1   44    Male  United States      IN            No             No   \n",
       "2        2   32    Male         Others  Non US            No             No   \n",
       "3        3   31    Male         Others  Non US            No            Yes   \n",
       "4        4   31    Male  United States      TX            No             No   \n",
       "...    ...  ...     ...            ...     ...           ...            ...   \n",
       "1238  1254   26    Male         Others  Non US            No             No   \n",
       "1239  1255   32    Male  United States      IL            No            Yes   \n",
       "1240  1256   34    Male  United States      CA            No            Yes   \n",
       "1241  1257   46  Female  United States      NC            No             No   \n",
       "1242  1258   25    Male  United States      IL            No            Yes   \n",
       "\n",
       "     treatment remote_work tech_company  \n",
       "0          Yes          No          Yes  \n",
       "1           No          No           No  \n",
       "2           No          No          Yes  \n",
       "3          Yes          No          Yes  \n",
       "4           No         Yes          Yes  \n",
       "...        ...         ...          ...  \n",
       "1238       Yes          No          Yes  \n",
       "1239       Yes         Yes          Yes  \n",
       "1240       Yes          No          Yes  \n",
       "1241        No         Yes          Yes  \n",
       "1242       Yes          No           No  \n",
       "\n",
       "[1243 rows x 10 columns]"
      ]
     },
     "execution_count": 2,
     "metadata": {},
     "output_type": "execute_result"
    }
   ],
   "source": [
    "# Read in data\n",
    "cleaned_df = pd.read_csv(\"Data/survey_df.csv\")\n",
    "cleaned_df"
   ]
  },
  {
   "cell_type": "markdown",
   "id": "33467ef7-c568-46a5-88f2-9961a5cb1696",
   "metadata": {},
   "source": [
    "## Inspecting the dataset"
   ]
  },
  {
   "cell_type": "code",
   "execution_count": 3,
   "id": "4a376c31-b478-4c87-99df-1a48b2accbe9",
   "metadata": {},
   "outputs": [
    {
     "data": {
      "text/plain": [
       "Yes    628\n",
       "No     615\n",
       "Name: treatment, dtype: int64"
      ]
     },
     "execution_count": 3,
     "metadata": {},
     "output_type": "execute_result"
    }
   ],
   "source": [
    "# Check to see if dataset is balanced for target class column\n",
    "cleaned_df[\"treatment\"].value_counts()"
   ]
  },
  {
   "cell_type": "code",
   "execution_count": 4,
   "id": "bb2fe3ec-4a7b-4887-b751-a21cfa3cda74",
   "metadata": {},
   "outputs": [
    {
     "ename": "AttributeError",
     "evalue": "'AxesSubplot' object has no attribute 'bar_labels'",
     "output_type": "error",
     "traceback": [
      "\u001b[0;31m---------------------------------------------------------------------------\u001b[0m",
      "\u001b[0;31mAttributeError\u001b[0m                            Traceback (most recent call last)",
      "\u001b[0;32m<ipython-input-4-4623a1965889>\u001b[0m in \u001b[0;36m<module>\u001b[0;34m\u001b[0m\n\u001b[1;32m      3\u001b[0m \u001b[0;34m\u001b[0m\u001b[0m\n\u001b[1;32m      4\u001b[0m \u001b[0max\u001b[0m \u001b[0;34m=\u001b[0m \u001b[0mplot_df\u001b[0m\u001b[0;34m.\u001b[0m\u001b[0mplot\u001b[0m\u001b[0;34m.\u001b[0m\u001b[0mbar\u001b[0m\u001b[0;34m(\u001b[0m\u001b[0mx\u001b[0m\u001b[0;34m=\u001b[0m\u001b[0;34m'index'\u001b[0m\u001b[0;34m,\u001b[0m \u001b[0my\u001b[0m\u001b[0;34m=\u001b[0m\u001b[0;34m'treatment'\u001b[0m\u001b[0;34m,\u001b[0m \u001b[0mrot\u001b[0m\u001b[0;34m=\u001b[0m\u001b[0;36m0\u001b[0m\u001b[0;34m)\u001b[0m\u001b[0;34m\u001b[0m\u001b[0;34m\u001b[0m\u001b[0m\n\u001b[0;32m----> 5\u001b[0;31m \u001b[0max\u001b[0m\u001b[0;34m.\u001b[0m\u001b[0mbar_labels\u001b[0m\u001b[0;34m(\u001b[0m\u001b[0max\u001b[0m\u001b[0;34m.\u001b[0m\u001b[0mcontainers\u001b[0m\u001b[0;34m[\u001b[0m\u001b[0;36m0\u001b[0m\u001b[0;34m]\u001b[0m\u001b[0;34m,\u001b[0m \u001b[0mlabels\u001b[0m\u001b[0;34m=\u001b[0m\u001b[0;34m[\u001b[0m\u001b[0;34mf\"{x/cleaned_df['treatment'].sum():.0%}\"\u001b[0m \u001b[0;32mfor\u001b[0m \u001b[0mx\u001b[0m \u001b[0;32min\u001b[0m \u001b[0mcleaned_df\u001b[0m\u001b[0;34m[\u001b[0m\u001b[0;34m'treatment'\u001b[0m\u001b[0;34m]\u001b[0m\u001b[0;34m]\u001b[0m\u001b[0;34m,\u001b[0m \u001b[0mpadding\u001b[0m\u001b[0;34m=\u001b[0m\u001b[0;34m-\u001b[0m\u001b[0;36m20\u001b[0m\u001b[0;34m,\u001b[0m \u001b[0mcolor\u001b[0m\u001b[0;34m=\u001b[0m\u001b[0;34m'w'\u001b[0m\u001b[0;34m,\u001b[0m \u001b[0mfontsize\u001b[0m\u001b[0;34m=\u001b[0m\u001b[0;36m14\u001b[0m\u001b[0;34m)\u001b[0m\u001b[0;34m\u001b[0m\u001b[0;34m\u001b[0m\u001b[0m\n\u001b[0m\u001b[1;32m      6\u001b[0m \u001b[0mplt\u001b[0m\u001b[0;34m.\u001b[0m\u001b[0mshow\u001b[0m\u001b[0;34m(\u001b[0m\u001b[0;34m)\u001b[0m\u001b[0;34m\u001b[0m\u001b[0;34m\u001b[0m\u001b[0m\n",
      "\u001b[0;31mAttributeError\u001b[0m: 'AxesSubplot' object has no attribute 'bar_labels'"
     ]
    },
    {
     "data": {
      "image/png": "[encoded data removed]",
      "text/plain": [
       "<Figure size 432x288 with 1 Axes>"
      ]
     },
     "metadata": {
      "needs_background": "light"
     },
     "output_type": "display_data"
    }
   ],
   "source": [
    "plot_df = pd.DataFrame(cleaned_df[\"treatment\"].value_counts()).reset_index()\n",
    "\n",
    "\n",
    "ax = plot_df.plot.bar(x='index', y='treatment', rot=0)\n",
    "ax.bar_labels(ax.containers[0], labels=[f\"{x/cleaned_df['treatment'].sum():.0%}\" for x in cleaned_df['treatment']], padding=-20, color='w', fontsize=14)\n",
    "plt.show()"
   ]
  },
  {
   "cell_type": "code",
   "execution_count": 5,
   "id": "a9543e12-54ee-4baa-8e17-447233bb031b",
   "metadata": {},
   "outputs": [
    {
     "data": {
      "image/png": "[encoded data removed]",
      "text/plain": [
       "<Figure size 432x288 with 1 Axes>"
      ]
     },
     "metadata": {
      "needs_background": "light"
     },
     "output_type": "display_data"
    }
   ],
   "source": [
    "f, ax = plt.subplots()\n",
    "sns.regplot(x=np.array(cleaned_df[\"Age\"]), y=cleaned_df[\"treatment\"].apply(lambda x: 0 if x==\"No\" else 1), logistic=True, ax=ax)\n",
    "plt.show()"
   ]
  },
  {
   "cell_type": "code",
   "execution_count": 6,
   "id": "7d03a539-1896-499a-ab10-7da3da83eb52",
   "metadata": {},
   "outputs": [
    {
     "data": {
      "image/png": "[encoded data removed]",
      "text/plain": [
       "<Figure size 432x288 with 1 Axes>"
      ]
     },
     "metadata": {
      "needs_background": "light"
     },
     "output_type": "display_data"
    }
   ],
   "source": [
    "f, ax = plt.subplots()\n",
    "sns.regplot(x=np.array(cleaned_df[\"Country\"].map({\"United States\":1, \"Others\":0})), y=cleaned_df[\"treatment\"].apply(lambda x: 0 if x==\"No\" else 1), logistic=True, ax=ax)\n",
    "plt.show()"
   ]
  },
  {
   "cell_type": "code",
   "execution_count": 7,
   "id": "0bc602c0-65b1-47c7-bc7c-d36663ad0162",
   "metadata": {},
   "outputs": [
    {
     "data": {
      "image/png": "[encoded data removed]",
      "text/plain": [
       "<Figure size 432x288 with 1 Axes>"
      ]
     },
     "metadata": {
      "needs_background": "light"
     },
     "output_type": "display_data"
    }
   ],
   "source": [
    "f, ax = plt.subplots()\n",
    "sns.regplot(x=np.array(cleaned_df[\"self_employed\"].map({\"Yes\":1, \"No\":0})), y=cleaned_df[\"treatment\"].apply(lambda x: 0 if x==\"No\" else 1), logistic=True, ax=ax)\n",
    "plt.show()"
   ]
  },
  {
   "cell_type": "code",
   "execution_count": 8,
   "id": "5bb1691e-86a5-4b02-aa09-f3ee2cb28b13",
   "metadata": {},
   "outputs": [
    {
     "data": {
      "image/png": "[encoded data removed]",
      "text/plain": [
       "<Figure size 432x288 with 1 Axes>"
      ]
     },
     "metadata": {
      "needs_background": "light"
     },
     "output_type": "display_data"
    }
   ],
   "source": [
    "f, ax = plt.subplots()\n",
    "sns.regplot(x=np.array(cleaned_df[\"family_history\"].map({\"Yes\":1, \"No\":0})), y=cleaned_df[\"treatment\"].apply(lambda x: 0 if x==\"No\" else 1), logistic=True, ax=ax)\n",
    "plt.show()"
   ]
  },
  {
   "cell_type": "code",
   "execution_count": 9,
   "id": "4ce76bad-c9ca-4963-816f-e5dade1509f0",
   "metadata": {},
   "outputs": [
    {
     "data": {
      "image/png": "[encoded data removed]",
      "text/plain": [
       "<Figure size 432x288 with 1 Axes>"
      ]
     },
     "metadata": {
      "needs_background": "light"
     },
     "output_type": "display_data"
    }
   ],
   "source": [
    "f, ax = plt.subplots()\n",
    "sns.regplot(x=np.array(cleaned_df[\"tech_company\"].map({\"Yes\":1, \"No\":0})), y=cleaned_df[\"treatment\"].apply(lambda x: 0 if x==\"No\" else 1), logistic=True, ax=ax)\n",
    "plt.show()"
   ]
  },
  {
   "cell_type": "code",
   "execution_count": 10,
   "id": "09557253-52f6-40c3-8e31-90387dbd143f",
   "metadata": {},
   "outputs": [
    {
     "data": {
      "image/png": "[encoded data removed]",
      "text/plain": [
       "<Figure size 432x288 with 1 Axes>"
      ]
     },
     "metadata": {
      "needs_background": "light"
     },
     "output_type": "display_data"
    }
   ],
   "source": [
    "f, ax = plt.subplots()\n",
    "sns.regplot(x=np.array(cleaned_df[\"remote_work\"].map({\"Yes\":1, \"No\":0})), y=cleaned_df[\"treatment\"].apply(lambda x: 0 if x==\"No\" else 1), logistic=True, ax=ax)\n",
    "plt.show()"
   ]
  },
  {
   "cell_type": "code",
   "execution_count": 11,
   "id": "1d0937ba-b095-4501-8f58-9460e42a4a70",
   "metadata": {},
   "outputs": [
    {
     "data": {
      "image/png": "[encoded data removed]",
      "text/plain": [
       "<Figure size 417.875x360 with 1 Axes>"
      ]
     },
     "metadata": {
      "needs_background": "light"
     },
     "output_type": "display_data"
    },
    {
     "data": {
      "image/png": "[encoded data removed]",
      "text/plain": [
       "<Figure size 417.875x360 with 1 Axes>"
      ]
     },
     "metadata": {
      "needs_background": "light"
     },
     "output_type": "display_data"
    },
    {
     "data": {
      "image/png": "[encoded data removed]",
      "text/plain": [
       "<Figure size 417.875x360 with 1 Axes>"
      ]
     },
     "metadata": {
      "needs_background": "light"
     },
     "output_type": "display_data"
    },
    {
     "data": {
      "image/png": "[encoded data removed]",
      "text/plain": [
       "<Figure size 417.875x360 with 1 Axes>"
      ]
     },
     "metadata": {
      "needs_background": "light"
     },
     "output_type": "display_data"
    },
    {
     "data": {
      "image/png": "[encoded data removed]",
      "text/plain": [
       "<Figure size 417.875x360 with 1 Axes>"
      ]
     },
     "metadata": {
      "needs_background": "light"
     },
     "output_type": "display_data"
    },
    {
     "data": {
      "image/png": "[encoded data removed]",
      "text/plain": [
       "<Figure size 417.875x360 with 1 Axes>"
      ]
     },
     "metadata": {
      "needs_background": "light"
     },
     "output_type": "display_data"
    }
   ],
   "source": [
    "columns = ['Gender', 'Country', 'self_employed', 'family_history', 'remote_work', 'tech_company']\n",
    "\n",
    "for c in columns:\n",
    "    \n",
    "    df_plot = pd.DataFrame(cleaned_df.groupby([c,\"treatment\"])['id'].count()).reset_index()\n",
    "\n",
    "    sns.catplot(x = c,       # x variable name\n",
    "                y = \"id\",       # y variable name\n",
    "                hue = \"treatment\",  # group variable name\n",
    "                data = df_plot,     # dataframe to plot\n",
    "                kind = \"bar\")"
   ]
  },
  {
   "cell_type": "markdown",
   "id": "3f75834d-8181-4e85-97ee-e0f93a9b9bee",
   "metadata": {},
   "source": [
    "## Preprocessing for machine learning"
   ]
  },
  {
   "cell_type": "code",
   "execution_count": 12,
   "id": "3e7fef8f-cee6-45ee-beb9-edc04beb3677",
   "metadata": {},
   "outputs": [
    {
     "data": {
      "text/html": [
       "<div>\n",
       "<style scoped>\n",
       "    .dataframe tbody tr th:only-of-type {\n",
       "        vertical-align: middle;\n",
       "    }\n",
       "\n",
       "    .dataframe tbody tr th {\n",
       "        vertical-align: top;\n",
       "    }\n",
       "\n",
       "    .dataframe thead th {\n",
       "        text-align: right;\n",
       "    }\n",
       "</style>\n",
       "<table border=\"1\" class=\"dataframe\">\n",
       "  <thead>\n",
       "    <tr style=\"text-align: right;\">\n",
       "      <th></th>\n",
       "      <th>Age</th>\n",
       "      <th>Gender</th>\n",
       "      <th>Country</th>\n",
       "      <th>self_employed</th>\n",
       "      <th>family_history</th>\n",
       "      <th>treatment</th>\n",
       "      <th>remote_work</th>\n",
       "      <th>tech_company</th>\n",
       "    </tr>\n",
       "  </thead>\n",
       "  <tbody>\n",
       "    <tr>\n",
       "      <th>0</th>\n",
       "      <td>37</td>\n",
       "      <td>Female</td>\n",
       "      <td>United States</td>\n",
       "      <td>No</td>\n",
       "      <td>No</td>\n",
       "      <td>Yes</td>\n",
       "      <td>No</td>\n",
       "      <td>Yes</td>\n",
       "    </tr>\n",
       "    <tr>\n",
       "      <th>1</th>\n",
       "      <td>44</td>\n",
       "      <td>Male</td>\n",
       "      <td>United States</td>\n",
       "      <td>No</td>\n",
       "      <td>No</td>\n",
       "      <td>No</td>\n",
       "      <td>No</td>\n",
       "      <td>No</td>\n",
       "    </tr>\n",
       "    <tr>\n",
       "      <th>2</th>\n",
       "      <td>32</td>\n",
       "      <td>Male</td>\n",
       "      <td>Others</td>\n",
       "      <td>No</td>\n",
       "      <td>No</td>\n",
       "      <td>No</td>\n",
       "      <td>No</td>\n",
       "      <td>Yes</td>\n",
       "    </tr>\n",
       "    <tr>\n",
       "      <th>3</th>\n",
       "      <td>31</td>\n",
       "      <td>Male</td>\n",
       "      <td>Others</td>\n",
       "      <td>No</td>\n",
       "      <td>Yes</td>\n",
       "      <td>Yes</td>\n",
       "      <td>No</td>\n",
       "      <td>Yes</td>\n",
       "    </tr>\n",
       "    <tr>\n",
       "      <th>4</th>\n",
       "      <td>31</td>\n",
       "      <td>Male</td>\n",
       "      <td>United States</td>\n",
       "      <td>No</td>\n",
       "      <td>No</td>\n",
       "      <td>No</td>\n",
       "      <td>Yes</td>\n",
       "      <td>Yes</td>\n",
       "    </tr>\n",
       "    <tr>\n",
       "      <th>...</th>\n",
       "      <td>...</td>\n",
       "      <td>...</td>\n",
       "      <td>...</td>\n",
       "      <td>...</td>\n",
       "      <td>...</td>\n",
       "      <td>...</td>\n",
       "      <td>...</td>\n",
       "      <td>...</td>\n",
       "    </tr>\n",
       "    <tr>\n",
       "      <th>1238</th>\n",
       "      <td>26</td>\n",
       "      <td>Male</td>\n",
       "      <td>Others</td>\n",
       "      <td>No</td>\n",
       "      <td>No</td>\n",
       "      <td>Yes</td>\n",
       "      <td>No</td>\n",
       "      <td>Yes</td>\n",
       "    </tr>\n",
       "    <tr>\n",
       "      <th>1239</th>\n",
       "      <td>32</td>\n",
       "      <td>Male</td>\n",
       "      <td>United States</td>\n",
       "      <td>No</td>\n",
       "      <td>Yes</td>\n",
       "      <td>Yes</td>\n",
       "      <td>Yes</td>\n",
       "      <td>Yes</td>\n",
       "    </tr>\n",
       "    <tr>\n",
       "      <th>1240</th>\n",
       "      <td>34</td>\n",
       "      <td>Male</td>\n",
       "      <td>United States</td>\n",
       "      <td>No</td>\n",
       "      <td>Yes</td>\n",
       "      <td>Yes</td>\n",
       "      <td>No</td>\n",
       "      <td>Yes</td>\n",
       "    </tr>\n",
       "    <tr>\n",
       "      <th>1241</th>\n",
       "      <td>46</td>\n",
       "      <td>Female</td>\n",
       "      <td>United States</td>\n",
       "      <td>No</td>\n",
       "      <td>No</td>\n",
       "      <td>No</td>\n",
       "      <td>Yes</td>\n",
       "      <td>Yes</td>\n",
       "    </tr>\n",
       "    <tr>\n",
       "      <th>1242</th>\n",
       "      <td>25</td>\n",
       "      <td>Male</td>\n",
       "      <td>United States</td>\n",
       "      <td>No</td>\n",
       "      <td>Yes</td>\n",
       "      <td>Yes</td>\n",
       "      <td>No</td>\n",
       "      <td>No</td>\n",
       "    </tr>\n",
       "  </tbody>\n",
       "</table>\n",
       "<p>1243 rows × 8 columns</p>\n",
       "</div>"
      ],
      "text/plain": [
       "      Age  Gender        Country self_employed family_history treatment  \\\n",
       "0      37  Female  United States            No             No       Yes   \n",
       "1      44    Male  United States            No             No        No   \n",
       "2      32    Male         Others            No             No        No   \n",
       "3      31    Male         Others            No            Yes       Yes   \n",
       "4      31    Male  United States            No             No        No   \n",
       "...   ...     ...            ...           ...            ...       ...   \n",
       "1238   26    Male         Others            No             No       Yes   \n",
       "1239   32    Male  United States            No            Yes       Yes   \n",
       "1240   34    Male  United States            No            Yes       Yes   \n",
       "1241   46  Female  United States            No             No        No   \n",
       "1242   25    Male  United States            No            Yes       Yes   \n",
       "\n",
       "     remote_work tech_company  \n",
       "0             No          Yes  \n",
       "1             No           No  \n",
       "2             No          Yes  \n",
       "3             No          Yes  \n",
       "4            Yes          Yes  \n",
       "...          ...          ...  \n",
       "1238          No          Yes  \n",
       "1239         Yes          Yes  \n",
       "1240          No          Yes  \n",
       "1241         Yes          Yes  \n",
       "1242          No           No  \n",
       "\n",
       "[1243 rows x 8 columns]"
      ]
     },
     "execution_count": 12,
     "metadata": {},
     "output_type": "execute_result"
    }
   ],
   "source": [
    "preprocessed_df = cleaned_df.drop(columns=[\"state\", \"id\"])\n",
    "preprocessed_df"
   ]
  },
  {
   "cell_type": "code",
   "execution_count": 13,
   "id": "dded7ec5-c398-485e-a1ce-425f23dd0e65",
   "metadata": {},
   "outputs": [
    {
     "data": {
      "text/plain": [
       "1    737\n",
       "0    506\n",
       "Name: Country, dtype: int64"
      ]
     },
     "execution_count": 13,
     "metadata": {},
     "output_type": "execute_result"
    }
   ],
   "source": [
    "preprocessed_df[\"Country\"] = preprocessed_df[\"Country\"].map({\"United States\":1, \"Others\":0})\n",
    "preprocessed_df[\"Country\"].value_counts()"
   ]
  },
  {
   "cell_type": "code",
   "execution_count": 14,
   "id": "e0a4efb1-ef0a-47be-9c0f-f56b0d2b2196",
   "metadata": {
    "tags": []
   },
   "outputs": [
    {
     "data": {
      "text/plain": [
       "0    1101\n",
       "1     142\n",
       "Name: self_employed, dtype: int64"
      ]
     },
     "execution_count": 14,
     "metadata": {},
     "output_type": "execute_result"
    }
   ],
   "source": [
    "preprocessed_df[\"self_employed\"] = preprocessed_df[\"self_employed\"].map({\"Yes\":1, \"No\":0})\n",
    "preprocessed_df[\"self_employed\"].value_counts()"
   ]
  },
  {
   "cell_type": "code",
   "execution_count": 15,
   "id": "eb03abac-4860-4ecd-9f9a-2122c6aa4d50",
   "metadata": {},
   "outputs": [
    {
     "data": {
      "text/plain": [
       "0    759\n",
       "1    484\n",
       "Name: family_history, dtype: int64"
      ]
     },
     "execution_count": 15,
     "metadata": {},
     "output_type": "execute_result"
    }
   ],
   "source": [
    "preprocessed_df[\"family_history\"] = preprocessed_df[\"family_history\"].map({\"Yes\":1, \"No\":0})\n",
    "preprocessed_df[\"family_history\"].value_counts()"
   ]
  },
  {
   "cell_type": "code",
   "execution_count": 16,
   "id": "f4b2768e-eaa3-4da3-b360-6650c4aae7ee",
   "metadata": {},
   "outputs": [
    {
     "data": {
      "text/plain": [
       "0    876\n",
       "1    367\n",
       "Name: remote_work, dtype: int64"
      ]
     },
     "execution_count": 16,
     "metadata": {},
     "output_type": "execute_result"
    }
   ],
   "source": [
    "preprocessed_df[\"remote_work\"] = preprocessed_df[\"remote_work\"].map({\"Yes\":1, \"No\":0})\n",
    "preprocessed_df[\"remote_work\"].value_counts()"
   ]
  },
  {
   "cell_type": "code",
   "execution_count": 17,
   "id": "9cf10059-95ec-40c6-9708-0dd235eb22e3",
   "metadata": {},
   "outputs": [
    {
     "data": {
      "text/plain": [
       "1    1018\n",
       "0     225\n",
       "Name: tech_company, dtype: int64"
      ]
     },
     "execution_count": 17,
     "metadata": {},
     "output_type": "execute_result"
    }
   ],
   "source": [
    "preprocessed_df[\"tech_company\"] = preprocessed_df[\"tech_company\"].map({\"Yes\":1, \"No\":0})\n",
    "preprocessed_df[\"tech_company\"].value_counts()"
   ]
  },
  {
   "cell_type": "code",
   "execution_count": 18,
   "id": "0f40a907-0d35-4d9c-908c-99f4dac54753",
   "metadata": {},
   "outputs": [
    {
     "data": {
      "text/html": [
       "<div>\n",
       "<style scoped>\n",
       "    .dataframe tbody tr th:only-of-type {\n",
       "        vertical-align: middle;\n",
       "    }\n",
       "\n",
       "    .dataframe tbody tr th {\n",
       "        vertical-align: top;\n",
       "    }\n",
       "\n",
       "    .dataframe thead th {\n",
       "        text-align: right;\n",
       "    }\n",
       "</style>\n",
       "<table border=\"1\" class=\"dataframe\">\n",
       "  <thead>\n",
       "    <tr style=\"text-align: right;\">\n",
       "      <th></th>\n",
       "      <th>Age</th>\n",
       "      <th>Country</th>\n",
       "      <th>self_employed</th>\n",
       "      <th>family_history</th>\n",
       "      <th>treatment</th>\n",
       "      <th>remote_work</th>\n",
       "      <th>tech_company</th>\n",
       "      <th>Gender_Female</th>\n",
       "      <th>Gender_Male</th>\n",
       "      <th>Gender_Others</th>\n",
       "    </tr>\n",
       "  </thead>\n",
       "  <tbody>\n",
       "    <tr>\n",
       "      <th>0</th>\n",
       "      <td>37</td>\n",
       "      <td>1</td>\n",
       "      <td>0</td>\n",
       "      <td>0</td>\n",
       "      <td>Yes</td>\n",
       "      <td>0</td>\n",
       "      <td>1</td>\n",
       "      <td>1</td>\n",
       "      <td>0</td>\n",
       "      <td>0</td>\n",
       "    </tr>\n",
       "    <tr>\n",
       "      <th>1</th>\n",
       "      <td>44</td>\n",
       "      <td>1</td>\n",
       "      <td>0</td>\n",
       "      <td>0</td>\n",
       "      <td>No</td>\n",
       "      <td>0</td>\n",
       "      <td>0</td>\n",
       "      <td>0</td>\n",
       "      <td>1</td>\n",
       "      <td>0</td>\n",
       "    </tr>\n",
       "    <tr>\n",
       "      <th>2</th>\n",
       "      <td>32</td>\n",
       "      <td>0</td>\n",
       "      <td>0</td>\n",
       "      <td>0</td>\n",
       "      <td>No</td>\n",
       "      <td>0</td>\n",
       "      <td>1</td>\n",
       "      <td>0</td>\n",
       "      <td>1</td>\n",
       "      <td>0</td>\n",
       "    </tr>\n",
       "    <tr>\n",
       "      <th>3</th>\n",
       "      <td>31</td>\n",
       "      <td>0</td>\n",
       "      <td>0</td>\n",
       "      <td>1</td>\n",
       "      <td>Yes</td>\n",
       "      <td>0</td>\n",
       "      <td>1</td>\n",
       "      <td>0</td>\n",
       "      <td>1</td>\n",
       "      <td>0</td>\n",
       "    </tr>\n",
       "    <tr>\n",
       "      <th>4</th>\n",
       "      <td>31</td>\n",
       "      <td>1</td>\n",
       "      <td>0</td>\n",
       "      <td>0</td>\n",
       "      <td>No</td>\n",
       "      <td>1</td>\n",
       "      <td>1</td>\n",
       "      <td>0</td>\n",
       "      <td>1</td>\n",
       "      <td>0</td>\n",
       "    </tr>\n",
       "    <tr>\n",
       "      <th>...</th>\n",
       "      <td>...</td>\n",
       "      <td>...</td>\n",
       "      <td>...</td>\n",
       "      <td>...</td>\n",
       "      <td>...</td>\n",
       "      <td>...</td>\n",
       "      <td>...</td>\n",
       "      <td>...</td>\n",
       "      <td>...</td>\n",
       "      <td>...</td>\n",
       "    </tr>\n",
       "    <tr>\n",
       "      <th>1238</th>\n",
       "      <td>26</td>\n",
       "      <td>0</td>\n",
       "      <td>0</td>\n",
       "      <td>0</td>\n",
       "      <td>Yes</td>\n",
       "      <td>0</td>\n",
       "      <td>1</td>\n",
       "      <td>0</td>\n",
       "      <td>1</td>\n",
       "      <td>0</td>\n",
       "    </tr>\n",
       "    <tr>\n",
       "      <th>1239</th>\n",
       "      <td>32</td>\n",
       "      <td>1</td>\n",
       "      <td>0</td>\n",
       "      <td>1</td>\n",
       "      <td>Yes</td>\n",
       "      <td>1</td>\n",
       "      <td>1</td>\n",
       "      <td>0</td>\n",
       "      <td>1</td>\n",
       "      <td>0</td>\n",
       "    </tr>\n",
       "    <tr>\n",
       "      <th>1240</th>\n",
       "      <td>34</td>\n",
       "      <td>1</td>\n",
       "      <td>0</td>\n",
       "      <td>1</td>\n",
       "      <td>Yes</td>\n",
       "      <td>0</td>\n",
       "      <td>1</td>\n",
       "      <td>0</td>\n",
       "      <td>1</td>\n",
       "      <td>0</td>\n",
       "    </tr>\n",
       "    <tr>\n",
       "      <th>1241</th>\n",
       "      <td>46</td>\n",
       "      <td>1</td>\n",
       "      <td>0</td>\n",
       "      <td>0</td>\n",
       "      <td>No</td>\n",
       "      <td>1</td>\n",
       "      <td>1</td>\n",
       "      <td>1</td>\n",
       "      <td>0</td>\n",
       "      <td>0</td>\n",
       "    </tr>\n",
       "    <tr>\n",
       "      <th>1242</th>\n",
       "      <td>25</td>\n",
       "      <td>1</td>\n",
       "      <td>0</td>\n",
       "      <td>1</td>\n",
       "      <td>Yes</td>\n",
       "      <td>0</td>\n",
       "      <td>0</td>\n",
       "      <td>0</td>\n",
       "      <td>1</td>\n",
       "      <td>0</td>\n",
       "    </tr>\n",
       "  </tbody>\n",
       "</table>\n",
       "<p>1243 rows × 10 columns</p>\n",
       "</div>"
      ],
      "text/plain": [
       "      Age  Country  self_employed  family_history treatment  remote_work  \\\n",
       "0      37        1              0               0       Yes            0   \n",
       "1      44        1              0               0        No            0   \n",
       "2      32        0              0               0        No            0   \n",
       "3      31        0              0               1       Yes            0   \n",
       "4      31        1              0               0        No            1   \n",
       "...   ...      ...            ...             ...       ...          ...   \n",
       "1238   26        0              0               0       Yes            0   \n",
       "1239   32        1              0               1       Yes            1   \n",
       "1240   34        1              0               1       Yes            0   \n",
       "1241   46        1              0               0        No            1   \n",
       "1242   25        1              0               1       Yes            0   \n",
       "\n",
       "      tech_company  Gender_Female  Gender_Male  Gender_Others  \n",
       "0                1              1            0              0  \n",
       "1                0              0            1              0  \n",
       "2                1              0            1              0  \n",
       "3                1              0            1              0  \n",
       "4                1              0            1              0  \n",
       "...            ...            ...          ...            ...  \n",
       "1238             1              0            1              0  \n",
       "1239             1              0            1              0  \n",
       "1240             1              0            1              0  \n",
       "1241             1              1            0              0  \n",
       "1242             0              0            1              0  \n",
       "\n",
       "[1243 rows x 10 columns]"
      ]
     },
     "execution_count": 18,
     "metadata": {},
     "output_type": "execute_result"
    }
   ],
   "source": [
    "# One-hot-encoding for gender\n",
    "data_df = pd.get_dummies(data=preprocessed_df, columns=[\"Gender\"])\n",
    "data_df"
   ]
  },
  {
   "cell_type": "code",
   "execution_count": 19,
   "id": "805ab5e4-d486-4f50-89ca-cca07c18f5a8",
   "metadata": {},
   "outputs": [],
   "source": [
    "# Establish X and y\n",
    "X = data_df[[\"Age\", \"Country\", \"self_employed\", \"family_history\", \"remote_work\", \"tech_company\", \"Gender_Female\", \"Gender_Male\", \"Gender_Others\"]]\n",
    "y = data_df[\"treatment\"]"
   ]
  },
  {
   "cell_type": "code",
   "execution_count": 20,
   "id": "877bf3c6-d725-4928-965f-6b990bda14ad",
   "metadata": {},
   "outputs": [],
   "source": [
    "# Split data into train and test sets\n",
    "X_train, X_test, y_train, y_test = train_test_split(X, y, random_state=1)"
   ]
  },
  {
   "cell_type": "code",
   "execution_count": 21,
   "id": "61fa26d5-60d4-49a5-b7a0-3afb0b98d73c",
   "metadata": {},
   "outputs": [
    {
     "data": {
      "text/plain": [
       "array([[ 0.96078622, -1.20257816, -0.35632139, ..., -0.48080734,\n",
       "         0.50602835, -0.12789718],\n",
       "       [ 2.19099151,  0.83154678, -0.35632139, ..., -0.48080734,\n",
       "         0.50602835, -0.12789718],\n",
       "       [ 1.37085465, -1.20257816, -0.35632139, ...,  2.07983516,\n",
       "        -1.97617387, -0.12789718],\n",
       "       ...,\n",
       "       [-0.40610854, -1.20257816, -0.35632139, ..., -0.48080734,\n",
       "         0.50602835, -0.12789718],\n",
       "       [ 0.27733884, -1.20257816, -0.35632139, ..., -0.48080734,\n",
       "         0.50602835, -0.12789718],\n",
       "       [ 1.50754413,  0.83154678,  2.80645514, ..., -0.48080734,\n",
       "         0.50602835, -0.12789718]])"
      ]
     },
     "execution_count": 21,
     "metadata": {},
     "output_type": "execute_result"
    }
   ],
   "source": [
    "# Scale the train and test features\n",
    "scaler = StandardScaler().fit(X_train)\n",
    "X_train_scaled = scaler.transform(X_train)\n",
    "X_test_scaled = scaler.transform(X_test)\n",
    "X_train_scaled"
   ]
  },
  {
   "cell_type": "markdown",
   "id": "3b32c879-e5b7-4204-901d-4625ed9baab4",
   "metadata": {},
   "source": [
    "## Testing logistic regression"
   ]
  },
  {
   "cell_type": "code",
   "execution_count": 22,
   "id": "c4d5914f-852a-461f-b057-a55d44285472",
   "metadata": {},
   "outputs": [],
   "source": [
    "# Initiate a logistic regression for grid search\n",
    "logistic_regression_tuner = LogisticRegression()"
   ]
  },
  {
   "cell_type": "code",
   "execution_count": 23,
   "id": "e7081bfd-e6bb-4bb4-9712-c139fd1e6610",
   "metadata": {},
   "outputs": [],
   "source": [
    "# Set parameters for grid search and initiate grid search\n",
    "lg_param_grid = {\"class_weight\": [None, \"balanced\"], \n",
    "                \"C\":[0.25, 0.5, 1.0, 2.0, 4.0],\n",
    "                \"solver\":['newton-cg', 'lbfgs', 'liblinear', 'sag', 'saga']}\n",
    "lg_grid = GridSearchCV(logistic_regression_tuner, lg_param_grid, verbose=3)"
   ]
  },
  {
   "cell_type": "code",
   "execution_count": 24,
   "id": "b7d5b041-5bde-40b3-8c1d-d5b9a3b369dd",
   "metadata": {
    "scrolled": true,
    "tags": []
   },
   "outputs": [
    {
     "name": "stdout",
     "output_type": "stream",
     "text": [
      "Fitting 5 folds for each of 50 candidates, totalling 250 fits\n",
      "[CV 1/5] END ....C=0.25, class_weight=None, solver=newton-cg; total time=   0.1s\n",
      "[CV 2/5] END ....C=0.25, class_weight=None, solver=newton-cg; total time=   0.0s\n",
      "[CV 3/5] END ....C=0.25, class_weight=None, solver=newton-cg; total time=   0.0s\n",
      "[CV 4/5] END ....C=0.25, class_weight=None, solver=newton-cg; total time=   0.0s\n",
      "[CV 5/5] END ....C=0.25, class_weight=None, solver=newton-cg; total time=   0.0s\n",
      "[CV 1/5] END ........C=0.25, class_weight=None, solver=lbfgs; total time=   0.0s\n",
      "[CV 2/5] END ........C=0.25, class_weight=None, solver=lbfgs; total time=   0.0s\n",
      "[CV 3/5] END ........C=0.25, class_weight=None, solver=lbfgs; total time=   0.0s\n",
      "[CV 4/5] END ........C=0.25, class_weight=None, solver=lbfgs; total time=   0.0s\n",
      "[CV 5/5] END ........C=0.25, class_weight=None, solver=lbfgs; total time=   0.0s\n",
      "[CV 1/5] END ....C=0.25, class_weight=None, solver=liblinear; total time=   0.0s\n",
      "[CV 2/5] END ....C=0.25, class_weight=None, solver=liblinear; total time=   0.0s\n",
      "[CV 3/5] END ....C=0.25, class_weight=None, solver=liblinear; total time=   0.0s\n",
      "[CV 4/5] END ....C=0.25, class_weight=None, solver=liblinear; total time=   0.0s\n",
      "[CV 5/5] END ....C=0.25, class_weight=None, solver=liblinear; total time=   0.0s\n",
      "[CV 1/5] END ..........C=0.25, class_weight=None, solver=sag; total time=   0.0s\n",
      "[CV 2/5] END ..........C=0.25, class_weight=None, solver=sag; total time=   0.0s\n",
      "[CV 3/5] END ..........C=0.25, class_weight=None, solver=sag; total time=   0.0s\n",
      "[CV 4/5] END ..........C=0.25, class_weight=None, solver=sag; total time=   0.0s\n",
      "[CV 5/5] END ..........C=0.25, class_weight=None, solver=sag; total time=   0.0s\n",
      "[CV 1/5] END .........C=0.25, class_weight=None, solver=saga; total time=   0.0s\n",
      "[CV 2/5] END .........C=0.25, class_weight=None, solver=saga; total time=   0.0s\n",
      "[CV 3/5] END .........C=0.25, class_weight=None, solver=saga; total time=   0.0s\n",
      "[CV 4/5] END .........C=0.25, class_weight=None, solver=saga; total time=   0.0s\n",
      "[CV 5/5] END .........C=0.25, class_weight=None, solver=saga; total time=   0.0s\n",
      "[CV 1/5] END C=0.25, class_weight=balanced, solver=newton-cg; total time=   0.0s\n",
      "[CV 2/5] END C=0.25, class_weight=balanced, solver=newton-cg; total time=   0.0s\n",
      "[CV 3/5] END C=0.25, class_weight=balanced, solver=newton-cg; total time=   0.0s\n",
      "[CV 4/5] END C=0.25, class_weight=balanced, solver=newton-cg; total time=   0.0s\n",
      "[CV 5/5] END C=0.25, class_weight=balanced, solver=newton-cg; total time=   0.0s\n",
      "[CV 1/5] END ....C=0.25, class_weight=balanced, solver=lbfgs; total time=   0.0s\n",
      "[CV 2/5] END ....C=0.25, class_weight=balanced, solver=lbfgs; total time=   0.0s\n",
      "[CV 3/5] END ....C=0.25, class_weight=balanced, solver=lbfgs; total time=   0.0s\n",
      "[CV 4/5] END ....C=0.25, class_weight=balanced, solver=lbfgs; total time=   0.0s\n",
      "[CV 5/5] END ....C=0.25, class_weight=balanced, solver=lbfgs; total time=   0.0s\n",
      "[CV 1/5] END C=0.25, class_weight=balanced, solver=liblinear; total time=   0.0s\n",
      "[CV 2/5] END C=0.25, class_weight=balanced, solver=liblinear; total time=   0.0s\n",
      "[CV 3/5] END C=0.25, class_weight=balanced, solver=liblinear; total time=   0.0s\n",
      "[CV 4/5] END C=0.25, class_weight=balanced, solver=liblinear; total time=   0.0s\n",
      "[CV 5/5] END C=0.25, class_weight=balanced, solver=liblinear; total time=   0.0s\n",
      "[CV 1/5] END ......C=0.25, class_weight=balanced, solver=sag; total time=   0.0s\n",
      "[CV 2/5] END ......C=0.25, class_weight=balanced, solver=sag; total time=   0.0s\n",
      "[CV 3/5] END ......C=0.25, class_weight=balanced, solver=sag; total time=   0.0s\n",
      "[CV 4/5] END ......C=0.25, class_weight=balanced, solver=sag; total time=   0.0s\n",
      "[CV 5/5] END ......C=0.25, class_weight=balanced, solver=sag; total time=   0.0s\n",
      "[CV 1/5] END .....C=0.25, class_weight=balanced, solver=saga; total time=   0.0s\n",
      "[CV 2/5] END .....C=0.25, class_weight=balanced, solver=saga; total time=   0.0s\n",
      "[CV 3/5] END .....C=0.25, class_weight=balanced, solver=saga; total time=   0.0s\n",
      "[CV 4/5] END .....C=0.25, class_weight=balanced, solver=saga; total time=   0.0s\n",
      "[CV 5/5] END .....C=0.25, class_weight=balanced, solver=saga; total time=   0.0s\n",
      "[CV 1/5] END .....C=0.5, class_weight=None, solver=newton-cg; total time=   0.0s\n",
      "[CV 2/5] END .....C=0.5, class_weight=None, solver=newton-cg; total time=   0.0s\n",
      "[CV 3/5] END .....C=0.5, class_weight=None, solver=newton-cg; total time=   0.0s\n",
      "[CV 4/5] END .....C=0.5, class_weight=None, solver=newton-cg; total time=   0.0s\n",
      "[CV 5/5] END .....C=0.5, class_weight=None, solver=newton-cg; total time=   0.0s\n",
      "[CV 1/5] END .........C=0.5, class_weight=None, solver=lbfgs; total time=   0.0s\n",
      "[CV 2/5] END .........C=0.5, class_weight=None, solver=lbfgs; total time=   0.0s\n",
      "[CV 3/5] END .........C=0.5, class_weight=None, solver=lbfgs; total time=   0.0s\n",
      "[CV 4/5] END .........C=0.5, class_weight=None, solver=lbfgs; total time=   0.0s\n",
      "[CV 5/5] END .........C=0.5, class_weight=None, solver=lbfgs; total time=   0.0s\n",
      "[CV 1/5] END .....C=0.5, class_weight=None, solver=liblinear; total time=   0.0s\n",
      "[CV 2/5] END .....C=0.5, class_weight=None, solver=liblinear; total time=   0.0s\n",
      "[CV 3/5] END .....C=0.5, class_weight=None, solver=liblinear; total time=   0.0s\n",
      "[CV 4/5] END .....C=0.5, class_weight=None, solver=liblinear; total time=   0.0s\n",
      "[CV 5/5] END .....C=0.5, class_weight=None, solver=liblinear; total time=   0.0s\n",
      "[CV 1/5] END ...........C=0.5, class_weight=None, solver=sag; total time=   0.0s\n",
      "[CV 2/5] END ...........C=0.5, class_weight=None, solver=sag; total time=   0.0s\n",
      "[CV 3/5] END ...........C=0.5, class_weight=None, solver=sag; total time=   0.0s\n",
      "[CV 4/5] END ...........C=0.5, class_weight=None, solver=sag; total time=   0.0s\n",
      "[CV 5/5] END ...........C=0.5, class_weight=None, solver=sag; total time=   0.0s\n",
      "[CV 1/5] END ..........C=0.5, class_weight=None, solver=saga; total time=   0.0s\n",
      "[CV 2/5] END ..........C=0.5, class_weight=None, solver=saga; total time=   0.0s\n",
      "[CV 3/5] END ..........C=0.5, class_weight=None, solver=saga; total time=   0.0s\n",
      "[CV 4/5] END ..........C=0.5, class_weight=None, solver=saga; total time=   0.0s\n",
      "[CV 5/5] END ..........C=0.5, class_weight=None, solver=saga; total time=   0.0s\n",
      "[CV 1/5] END .C=0.5, class_weight=balanced, solver=newton-cg; total time=   0.0s\n",
      "[CV 2/5] END .C=0.5, class_weight=balanced, solver=newton-cg; total time=   0.0s\n",
      "[CV 3/5] END .C=0.5, class_weight=balanced, solver=newton-cg; total time=   0.0s\n",
      "[CV 4/5] END .C=0.5, class_weight=balanced, solver=newton-cg; total time=   0.0s\n",
      "[CV 5/5] END .C=0.5, class_weight=balanced, solver=newton-cg; total time=   0.0s\n",
      "[CV 1/5] END .....C=0.5, class_weight=balanced, solver=lbfgs; total time=   0.0s\n",
      "[CV 2/5] END .....C=0.5, class_weight=balanced, solver=lbfgs; total time=   0.0s\n",
      "[CV 3/5] END .....C=0.5, class_weight=balanced, solver=lbfgs; total time=   0.1s\n",
      "[CV 4/5] END .....C=0.5, class_weight=balanced, solver=lbfgs; total time=   0.0s\n",
      "[CV 5/5] END .....C=0.5, class_weight=balanced, solver=lbfgs; total time=   0.0s\n",
      "[CV 1/5] END .C=0.5, class_weight=balanced, solver=liblinear; total time=   0.0s\n",
      "[CV 2/5] END .C=0.5, class_weight=balanced, solver=liblinear; total time=   0.0s\n",
      "[CV 3/5] END .C=0.5, class_weight=balanced, solver=liblinear; total time=   0.0s\n",
      "[CV 4/5] END .C=0.5, class_weight=balanced, solver=liblinear; total time=   0.0s\n",
      "[CV 5/5] END .C=0.5, class_weight=balanced, solver=liblinear; total time=   0.0s\n",
      "[CV 1/5] END .......C=0.5, class_weight=balanced, solver=sag; total time=   0.0s\n",
      "[CV 2/5] END .......C=0.5, class_weight=balanced, solver=sag; total time=   0.0s\n",
      "[CV 3/5] END .......C=0.5, class_weight=balanced, solver=sag; total time=   0.0s\n",
      "[CV 4/5] END .......C=0.5, class_weight=balanced, solver=sag; total time=   0.0s\n",
      "[CV 5/5] END .......C=0.5, class_weight=balanced, solver=sag; total time=   0.0s\n",
      "[CV 1/5] END ......C=0.5, class_weight=balanced, solver=saga; total time=   0.0s\n",
      "[CV 2/5] END ......C=0.5, class_weight=balanced, solver=saga; total time=   0.0s\n",
      "[CV 3/5] END ......C=0.5, class_weight=balanced, solver=saga; total time=   0.0s\n",
      "[CV 4/5] END ......C=0.5, class_weight=balanced, solver=saga; total time=   0.0s\n",
      "[CV 5/5] END ......C=0.5, class_weight=balanced, solver=saga; total time=   0.0s\n",
      "[CV 1/5] END .....C=1.0, class_weight=None, solver=newton-cg; total time=   0.0s\n",
      "[CV 2/5] END .....C=1.0, class_weight=None, solver=newton-cg; total time=   0.0s\n",
      "[CV 3/5] END .....C=1.0, class_weight=None, solver=newton-cg; total time=   0.0s\n",
      "[CV 4/5] END .....C=1.0, class_weight=None, solver=newton-cg; total time=   0.0s\n",
      "[CV 5/5] END .....C=1.0, class_weight=None, solver=newton-cg; total time=   0.0s\n",
      "[CV 1/5] END .........C=1.0, class_weight=None, solver=lbfgs; total time=   0.0s\n",
      "[CV 2/5] END .........C=1.0, class_weight=None, solver=lbfgs; total time=   0.0s\n",
      "[CV 3/5] END .........C=1.0, class_weight=None, solver=lbfgs; total time=   0.0s\n",
      "[CV 4/5] END .........C=1.0, class_weight=None, solver=lbfgs; total time=   0.0s\n",
      "[CV 5/5] END .........C=1.0, class_weight=None, solver=lbfgs; total time=   0.0s\n",
      "[CV 1/5] END .....C=1.0, class_weight=None, solver=liblinear; total time=   0.0s\n",
      "[CV 2/5] END .....C=1.0, class_weight=None, solver=liblinear; total time=   0.0s\n",
      "[CV 3/5] END .....C=1.0, class_weight=None, solver=liblinear; total time=   0.0s\n",
      "[CV 4/5] END .....C=1.0, class_weight=None, solver=liblinear; total time=   0.0s\n",
      "[CV 5/5] END .....C=1.0, class_weight=None, solver=liblinear; total time=   0.0s\n",
      "[CV 1/5] END ...........C=1.0, class_weight=None, solver=sag; total time=   0.0s\n",
      "[CV 2/5] END ...........C=1.0, class_weight=None, solver=sag; total time=   0.0s\n",
      "[CV 3/5] END ...........C=1.0, class_weight=None, solver=sag; total time=   0.0s\n",
      "[CV 4/5] END ...........C=1.0, class_weight=None, solver=sag; total time=   0.0s\n",
      "[CV 5/5] END ...........C=1.0, class_weight=None, solver=sag; total time=   0.0s\n",
      "[CV 1/5] END ..........C=1.0, class_weight=None, solver=saga; total time=   0.0s\n",
      "[CV 2/5] END ..........C=1.0, class_weight=None, solver=saga; total time=   0.0s\n",
      "[CV 3/5] END ..........C=1.0, class_weight=None, solver=saga; total time=   0.0s\n",
      "[CV 4/5] END ..........C=1.0, class_weight=None, solver=saga; total time=   0.0s\n",
      "[CV 5/5] END ..........C=1.0, class_weight=None, solver=saga; total time=   0.0s\n",
      "[CV 1/5] END .C=1.0, class_weight=balanced, solver=newton-cg; total time=   0.0s\n",
      "[CV 2/5] END .C=1.0, class_weight=balanced, solver=newton-cg; total time=   0.0s\n",
      "[CV 3/5] END .C=1.0, class_weight=balanced, solver=newton-cg; total time=   0.0s\n",
      "[CV 4/5] END .C=1.0, class_weight=balanced, solver=newton-cg; total time=   0.0s\n",
      "[CV 5/5] END .C=1.0, class_weight=balanced, solver=newton-cg; total time=   0.0s\n",
      "[CV 1/5] END .....C=1.0, class_weight=balanced, solver=lbfgs; total time=   0.0s\n",
      "[CV 2/5] END .....C=1.0, class_weight=balanced, solver=lbfgs; total time=   0.0s\n",
      "[CV 3/5] END .....C=1.0, class_weight=balanced, solver=lbfgs; total time=   0.0s\n",
      "[CV 4/5] END .....C=1.0, class_weight=balanced, solver=lbfgs; total time=   0.0s\n",
      "[CV 5/5] END .....C=1.0, class_weight=balanced, solver=lbfgs; total time=   0.0s\n",
      "[CV 1/5] END .C=1.0, class_weight=balanced, solver=liblinear; total time=   0.0s\n",
      "[CV 2/5] END .C=1.0, class_weight=balanced, solver=liblinear; total time=   0.0s\n",
      "[CV 3/5] END .C=1.0, class_weight=balanced, solver=liblinear; total time=   0.0s\n",
      "[CV 4/5] END .C=1.0, class_weight=balanced, solver=liblinear; total time=   0.0s\n",
      "[CV 5/5] END .C=1.0, class_weight=balanced, solver=liblinear; total time=   0.0s\n",
      "[CV 1/5] END .......C=1.0, class_weight=balanced, solver=sag; total time=   0.0s\n",
      "[CV 2/5] END .......C=1.0, class_weight=balanced, solver=sag; total time=   0.0s\n",
      "[CV 3/5] END .......C=1.0, class_weight=balanced, solver=sag; total time=   0.0s\n",
      "[CV 4/5] END .......C=1.0, class_weight=balanced, solver=sag; total time=   0.0s\n",
      "[CV 5/5] END .......C=1.0, class_weight=balanced, solver=sag; total time=   0.0s\n",
      "[CV 1/5] END ......C=1.0, class_weight=balanced, solver=saga; total time=   0.0s\n",
      "[CV 2/5] END ......C=1.0, class_weight=balanced, solver=saga; total time=   0.0s\n",
      "[CV 3/5] END ......C=1.0, class_weight=balanced, solver=saga; total time=   0.0s\n",
      "[CV 4/5] END ......C=1.0, class_weight=balanced, solver=saga; total time=   0.0s\n",
      "[CV 5/5] END ......C=1.0, class_weight=balanced, solver=saga; total time=   0.0s\n",
      "[CV 1/5] END .....C=2.0, class_weight=None, solver=newton-cg; total time=   0.0s\n",
      "[CV 2/5] END .....C=2.0, class_weight=None, solver=newton-cg; total time=   0.0s\n",
      "[CV 3/5] END .....C=2.0, class_weight=None, solver=newton-cg; total time=   0.0s\n",
      "[CV 4/5] END .....C=2.0, class_weight=None, solver=newton-cg; total time=   0.0s\n",
      "[CV 5/5] END .....C=2.0, class_weight=None, solver=newton-cg; total time=   0.0s\n",
      "[CV 1/5] END .........C=2.0, class_weight=None, solver=lbfgs; total time=   0.0s\n",
      "[CV 2/5] END .........C=2.0, class_weight=None, solver=lbfgs; total time=   0.0s\n",
      "[CV 3/5] END .........C=2.0, class_weight=None, solver=lbfgs; total time=   0.0s\n",
      "[CV 4/5] END .........C=2.0, class_weight=None, solver=lbfgs; total time=   0.0s\n",
      "[CV 5/5] END .........C=2.0, class_weight=None, solver=lbfgs; total time=   0.0s\n",
      "[CV 1/5] END .....C=2.0, class_weight=None, solver=liblinear; total time=   0.0s\n",
      "[CV 2/5] END .....C=2.0, class_weight=None, solver=liblinear; total time=   0.0s\n",
      "[CV 3/5] END .....C=2.0, class_weight=None, solver=liblinear; total time=   0.0s\n",
      "[CV 4/5] END .....C=2.0, class_weight=None, solver=liblinear; total time=   0.0s\n",
      "[CV 5/5] END .....C=2.0, class_weight=None, solver=liblinear; total time=   0.0s\n",
      "[CV 1/5] END ...........C=2.0, class_weight=None, solver=sag; total time=   0.0s\n",
      "[CV 2/5] END ...........C=2.0, class_weight=None, solver=sag; total time=   0.0s\n",
      "[CV 3/5] END ...........C=2.0, class_weight=None, solver=sag; total time=   0.0s\n",
      "[CV 4/5] END ...........C=2.0, class_weight=None, solver=sag; total time=   0.0s\n",
      "[CV 5/5] END ...........C=2.0, class_weight=None, solver=sag; total time=   0.0s\n",
      "[CV 1/5] END ..........C=2.0, class_weight=None, solver=saga; total time=   0.0s\n",
      "[CV 2/5] END ..........C=2.0, class_weight=None, solver=saga; total time=   0.0s\n",
      "[CV 3/5] END ..........C=2.0, class_weight=None, solver=saga; total time=   0.0s\n",
      "[CV 4/5] END ..........C=2.0, class_weight=None, solver=saga; total time=   0.0s\n",
      "[CV 5/5] END ..........C=2.0, class_weight=None, solver=saga; total time=   0.0s\n",
      "[CV 1/5] END .C=2.0, class_weight=balanced, solver=newton-cg; total time=   0.0s\n",
      "[CV 2/5] END .C=2.0, class_weight=balanced, solver=newton-cg; total time=   0.0s\n",
      "[CV 3/5] END .C=2.0, class_weight=balanced, solver=newton-cg; total time=   0.0s\n",
      "[CV 4/5] END .C=2.0, class_weight=balanced, solver=newton-cg; total time=   0.0s\n",
      "[CV 5/5] END .C=2.0, class_weight=balanced, solver=newton-cg; total time=   0.0s\n",
      "[CV 1/5] END .....C=2.0, class_weight=balanced, solver=lbfgs; total time=   0.0s\n",
      "[CV 2/5] END .....C=2.0, class_weight=balanced, solver=lbfgs; total time=   0.0s\n",
      "[CV 3/5] END .....C=2.0, class_weight=balanced, solver=lbfgs; total time=   0.0s\n",
      "[CV 4/5] END .....C=2.0, class_weight=balanced, solver=lbfgs; total time=   0.0s\n",
      "[CV 5/5] END .....C=2.0, class_weight=balanced, solver=lbfgs; total time=   0.0s\n",
      "[CV 1/5] END .C=2.0, class_weight=balanced, solver=liblinear; total time=   0.0s\n",
      "[CV 2/5] END .C=2.0, class_weight=balanced, solver=liblinear; total time=   0.0s\n",
      "[CV 3/5] END .C=2.0, class_weight=balanced, solver=liblinear; total time=   0.0s\n",
      "[CV 4/5] END .C=2.0, class_weight=balanced, solver=liblinear; total time=   0.0s\n",
      "[CV 5/5] END .C=2.0, class_weight=balanced, solver=liblinear; total time=   0.0s\n",
      "[CV 1/5] END .......C=2.0, class_weight=balanced, solver=sag; total time=   0.0s\n",
      "[CV 2/5] END .......C=2.0, class_weight=balanced, solver=sag; total time=   0.0s\n",
      "[CV 3/5] END .......C=2.0, class_weight=balanced, solver=sag; total time=   0.0s\n",
      "[CV 4/5] END .......C=2.0, class_weight=balanced, solver=sag; total time=   0.0s\n",
      "[CV 5/5] END .......C=2.0, class_weight=balanced, solver=sag; total time=   0.0s\n",
      "[CV 1/5] END ......C=2.0, class_weight=balanced, solver=saga; total time=   0.0s\n",
      "[CV 2/5] END ......C=2.0, class_weight=balanced, solver=saga; total time=   0.0s\n",
      "[CV 3/5] END ......C=2.0, class_weight=balanced, solver=saga; total time=   0.0s\n",
      "[CV 4/5] END ......C=2.0, class_weight=balanced, solver=saga; total time=   0.0s\n",
      "[CV 5/5] END ......C=2.0, class_weight=balanced, solver=saga; total time=   0.0s\n",
      "[CV 1/5] END .....C=4.0, class_weight=None, solver=newton-cg; total time=   0.0s\n",
      "[CV 2/5] END .....C=4.0, class_weight=None, solver=newton-cg; total time=   0.0s\n",
      "[CV 3/5] END .....C=4.0, class_weight=None, solver=newton-cg; total time=   0.0s\n",
      "[CV 4/5] END .....C=4.0, class_weight=None, solver=newton-cg; total time=   0.0s\n",
      "[CV 5/5] END .....C=4.0, class_weight=None, solver=newton-cg; total time=   0.0s\n",
      "[CV 1/5] END .........C=4.0, class_weight=None, solver=lbfgs; total time=   0.0s\n",
      "[CV 2/5] END .........C=4.0, class_weight=None, solver=lbfgs; total time=   0.0s\n",
      "[CV 3/5] END .........C=4.0, class_weight=None, solver=lbfgs; total time=   0.0s\n",
      "[CV 4/5] END .........C=4.0, class_weight=None, solver=lbfgs; total time=   0.0s\n",
      "[CV 5/5] END .........C=4.0, class_weight=None, solver=lbfgs; total time=   0.0s\n",
      "[CV 1/5] END .....C=4.0, class_weight=None, solver=liblinear; total time=   0.0s\n",
      "[CV 2/5] END .....C=4.0, class_weight=None, solver=liblinear; total time=   0.0s\n",
      "[CV 3/5] END .....C=4.0, class_weight=None, solver=liblinear; total time=   0.0s\n",
      "[CV 4/5] END .....C=4.0, class_weight=None, solver=liblinear; total time=   0.0s\n",
      "[CV 5/5] END .....C=4.0, class_weight=None, solver=liblinear; total time=   0.0s\n",
      "[CV 1/5] END ...........C=4.0, class_weight=None, solver=sag; total time=   0.0s\n",
      "[CV 2/5] END ...........C=4.0, class_weight=None, solver=sag; total time=   0.0s\n",
      "[CV 3/5] END ...........C=4.0, class_weight=None, solver=sag; total time=   0.0s\n",
      "[CV 4/5] END ...........C=4.0, class_weight=None, solver=sag; total time=   0.0s\n",
      "[CV 5/5] END ...........C=4.0, class_weight=None, solver=sag; total time=   0.0s\n",
      "[CV 1/5] END ..........C=4.0, class_weight=None, solver=saga; total time=   0.0s\n",
      "[CV 2/5] END ..........C=4.0, class_weight=None, solver=saga; total time=   0.0s\n",
      "[CV 3/5] END ..........C=4.0, class_weight=None, solver=saga; total time=   0.0s\n",
      "[CV 4/5] END ..........C=4.0, class_weight=None, solver=saga; total time=   0.0s\n",
      "[CV 5/5] END ..........C=4.0, class_weight=None, solver=saga; total time=   0.0s\n",
      "[CV 1/5] END .C=4.0, class_weight=balanced, solver=newton-cg; total time=   0.0s\n",
      "[CV 2/5] END .C=4.0, class_weight=balanced, solver=newton-cg; total time=   0.0s\n",
      "[CV 3/5] END .C=4.0, class_weight=balanced, solver=newton-cg; total time=   0.4s\n",
      "[CV 4/5] END .C=4.0, class_weight=balanced, solver=newton-cg; total time=   0.5s\n",
      "[CV 5/5] END .C=4.0, class_weight=balanced, solver=newton-cg; total time=   0.1s\n",
      "[CV 1/5] END .....C=4.0, class_weight=balanced, solver=lbfgs; total time=   0.0s\n",
      "[CV 2/5] END .....C=4.0, class_weight=balanced, solver=lbfgs; total time=   0.0s\n",
      "[CV 3/5] END .....C=4.0, class_weight=balanced, solver=lbfgs; total time=   0.0s\n",
      "[CV 4/5] END .....C=4.0, class_weight=balanced, solver=lbfgs; total time=   0.0s\n",
      "[CV 5/5] END .....C=4.0, class_weight=balanced, solver=lbfgs; total time=   0.0s\n",
      "[CV 1/5] END .C=4.0, class_weight=balanced, solver=liblinear; total time=   0.0s\n",
      "[CV 2/5] END .C=4.0, class_weight=balanced, solver=liblinear; total time=   0.0s\n",
      "[CV 3/5] END .C=4.0, class_weight=balanced, solver=liblinear; total time=   0.0s\n",
      "[CV 4/5] END .C=4.0, class_weight=balanced, solver=liblinear; total time=   0.0s\n",
      "[CV 5/5] END .C=4.0, class_weight=balanced, solver=liblinear; total time=   0.0s\n",
      "[CV 1/5] END .......C=4.0, class_weight=balanced, solver=sag; total time=   0.0s\n",
      "[CV 2/5] END .......C=4.0, class_weight=balanced, solver=sag; total time=   0.0s\n",
      "[CV 3/5] END .......C=4.0, class_weight=balanced, solver=sag; total time=   0.0s\n",
      "[CV 4/5] END .......C=4.0, class_weight=balanced, solver=sag; total time=   0.0s\n",
      "[CV 5/5] END .......C=4.0, class_weight=balanced, solver=sag; total time=   0.0s\n",
      "[CV 1/5] END ......C=4.0, class_weight=balanced, solver=saga; total time=   0.0s\n",
      "[CV 2/5] END ......C=4.0, class_weight=balanced, solver=saga; total time=   0.0s\n",
      "[CV 3/5] END ......C=4.0, class_weight=balanced, solver=saga; total time=   0.0s\n",
      "[CV 4/5] END ......C=4.0, class_weight=balanced, solver=saga; total time=   0.0s\n",
      "[CV 5/5] END ......C=4.0, class_weight=balanced, solver=saga; total time=   0.0s\n"
     ]
    },
    {
     "data": {
      "text/plain": [
       "GridSearchCV(estimator=LogisticRegression(),\n",
       "             param_grid={'C': [0.25, 0.5, 1.0, 2.0, 4.0],\n",
       "                         'class_weight': [None, 'balanced'],\n",
       "                         'solver': ['newton-cg', 'lbfgs', 'liblinear', 'sag',\n",
       "                                    'saga']},\n",
       "             verbose=3)"
      ]
     },
     "execution_count": 24,
     "metadata": {},
     "output_type": "execute_result"
    }
   ],
   "source": [
    "lg_grid.fit(X_train_scaled, y_train)"
   ]
  },
  {
   "cell_type": "code",
   "execution_count": 25,
   "id": "81bdb5a5-e8ca-422a-9c2d-e2862df12e36",
   "metadata": {},
   "outputs": [
    {
     "name": "stdout",
     "output_type": "stream",
     "text": [
      "{'C': 1.0, 'class_weight': None, 'solver': 'newton-cg'}\n",
      "0.6964119372089013\n"
     ]
    }
   ],
   "source": [
    "print(lg_grid.best_params_)\n",
    "print(lg_grid.best_score_)"
   ]
  },
  {
   "cell_type": "code",
   "execution_count": 26,
   "id": "930af853-f4fb-4e42-bc67-407aa20bf5ee",
   "metadata": {},
   "outputs": [
    {
     "data": {
      "text/plain": [
       "LogisticRegression(C=0.25, class_weight='balanced', solver='liblinear')"
      ]
     },
     "execution_count": 26,
     "metadata": {},
     "output_type": "execute_result"
    }
   ],
   "source": [
    "## Multiple trials resulted in the below parameters yielding the best results on the test data\n",
    "# Initiate logistic regression model\n",
    "c=0.25\n",
    "class_weight = \"balanced\"\n",
    "solver=\"liblinear\"\n",
    "\n",
    "logistic_regression = LogisticRegression(C=c, class_weight=class_weight, solver=solver)\n",
    "logistic_regression"
   ]
  },
  {
   "cell_type": "code",
   "execution_count": 27,
   "id": "169c90ec-b2fe-4cef-9e97-863879e4e46f",
   "metadata": {},
   "outputs": [
    {
     "data": {
      "text/plain": [
       "LogisticRegression(C=0.25, class_weight='balanced', solver='liblinear')"
      ]
     },
     "execution_count": 27,
     "metadata": {},
     "output_type": "execute_result"
    }
   ],
   "source": [
    "# Train the logistic regression model\n",
    "logistic_regression.fit(X_train_scaled, y_train)"
   ]
  },
  {
   "cell_type": "code",
   "execution_count": 28,
   "id": "dee71d3b-2680-47a8-8d51-e287d3380576",
   "metadata": {},
   "outputs": [],
   "source": [
    "# Make preditions\n",
    "y_pred_lg = logistic_regression.predict(X_test_scaled)"
   ]
  },
  {
   "cell_type": "code",
   "execution_count": 29,
   "id": "fe74f32b-0d52-435e-bb04-008d99f49e70",
   "metadata": {},
   "outputs": [
    {
     "name": "stdout",
     "output_type": "stream",
     "text": [
      "Training Data Score: 0.6952789699570815\n",
      "Testing Data Score: 0.6816720257234726\n"
     ]
    }
   ],
   "source": [
    "# Compare training data with test data \n",
    "print(f\"Training Data Score: {logistic_regression.score(X_train_scaled, y_train)}\")\n",
    "print(f\"Testing Data Score: {logistic_regression.score(X_test_scaled, y_test)}\")"
   ]
  },
  {
   "cell_type": "code",
   "execution_count": 30,
   "id": "1aaf1aba-12b1-442b-9e7e-c7c5b188eedd",
   "metadata": {},
   "outputs": [
    {
     "data": {
      "text/plain": [
       "0.6816720257234726"
      ]
     },
     "execution_count": 30,
     "metadata": {},
     "output_type": "execute_result"
    }
   ],
   "source": [
    "# Set the test score to a variable\n",
    "lg_test_score = logistic_regression.score(X_test_scaled, y_test)\n",
    "lg_test_score"
   ]
  },
  {
   "cell_type": "code",
   "execution_count": 31,
   "id": "2fcda905-80b3-4c8a-bb40-91a35011b2d9",
   "metadata": {},
   "outputs": [
    {
     "name": "stdout",
     "output_type": "stream",
     "text": [
      "              precision    recall  f1-score   support\n",
      "\n",
      "          No       0.62      0.76      0.68       140\n",
      "         Yes       0.76      0.61      0.68       171\n",
      "\n",
      "    accuracy                           0.68       311\n",
      "   macro avg       0.69      0.69      0.68       311\n",
      "weighted avg       0.70      0.68      0.68       311\n",
      "\n"
     ]
    }
   ],
   "source": [
    "print(classification_report(y_test, y_pred_lg))"
   ]
  },
  {
   "cell_type": "code",
   "execution_count": 32,
   "id": "c863e35f-483d-410b-ade1-23a753c50c8c",
   "metadata": {},
   "outputs": [
    {
     "data": {
      "image/png": "[encoded data removed]",
      "text/plain": [
       "<Figure size 432x288 with 2 Axes>"
      ]
     },
     "metadata": {
      "needs_background": "light"
     },
     "output_type": "display_data"
    }
   ],
   "source": [
    "# Create a confusion matrix to illustrate model accuracy\n",
    "logistic_regression_cm = confusion_matrix(y_test, y_pred_lg, labels=logistic_regression.classes_)\n",
    "disp = ConfusionMatrixDisplay(confusion_matrix=logistic_regression_cm,\n",
    "                              display_labels=logistic_regression.classes_)\n",
    "disp.plot()\n",
    "plt.show()"
   ]
  },
  {
   "cell_type": "markdown",
   "id": "811c243e-c15e-435b-b1bf-3831bf4d6dc0",
   "metadata": {},
   "source": [
    "## Testing K Nearest Neighbor"
   ]
  },
  {
   "cell_type": "code",
   "execution_count": 33,
   "id": "7d2160b2-5776-41df-b748-9e7f8c9e4e43",
   "metadata": {
    "scrolled": true,
    "tags": []
   },
   "outputs": [
    {
     "name": "stdout",
     "output_type": "stream",
     "text": [
      "k: 1, Train/Test Score: 0.788/0.611\n",
      "k: 3, Train/Test Score: 0.753/0.617\n",
      "k: 5, Train/Test Score: 0.735/0.640\n",
      "k: 7, Train/Test Score: 0.718/0.659\n",
      "k: 9, Train/Test Score: 0.707/0.682\n",
      "k: 11, Train/Test Score: 0.710/0.675\n",
      "k: 13, Train/Test Score: 0.686/0.691\n",
      "k: 15, Train/Test Score: 0.692/0.695\n",
      "k: 17, Train/Test Score: 0.695/0.669\n",
      "k: 19, Train/Test Score: 0.697/0.669\n",
      "k: 21, Train/Test Score: 0.697/0.691\n",
      "k: 23, Train/Test Score: 0.695/0.707\n",
      "k: 25, Train/Test Score: 0.693/0.701\n",
      "k: 27, Train/Test Score: 0.694/0.682\n",
      "k: 29, Train/Test Score: 0.692/0.685\n",
      "k: 31, Train/Test Score: 0.689/0.685\n",
      "k: 33, Train/Test Score: 0.695/0.698\n",
      "k: 35, Train/Test Score: 0.696/0.701\n",
      "k: 37, Train/Test Score: 0.696/0.704\n",
      "k: 39, Train/Test Score: 0.697/0.701\n",
      "k: 41, Train/Test Score: 0.691/0.691\n",
      "k: 43, Train/Test Score: 0.689/0.691\n",
      "k: 45, Train/Test Score: 0.693/0.695\n",
      "k: 47, Train/Test Score: 0.693/0.698\n",
      "k: 49, Train/Test Score: 0.689/0.695\n"
     ]
    },
    {
     "data": {
      "image/png": "[encoded data removed]",
      "text/plain": [
       "<Figure size 432x288 with 1 Axes>"
      ]
     },
     "metadata": {
      "needs_background": "light"
     },
     "output_type": "display_data"
    }
   ],
   "source": [
    "# Loop through different k values to find which has the highest accuracy.\n",
    "train_scores = []\n",
    "test_scores = []\n",
    "\n",
    "for k in range(1, 50, 2):\n",
    "    knn = KNeighborsClassifier(n_neighbors=k)\n",
    "    knn.fit(X_train_scaled, y_train)\n",
    "    train_score = knn.score(X_train_scaled, y_train)\n",
    "    test_score = knn.score(X_test_scaled, y_test)\n",
    "    train_scores.append(train_score)\n",
    "    test_scores.append(test_score)\n",
    "    print(f\"k: {k}, Train/Test Score: {train_score:.3f}/{test_score:.3f}\")\n",
    "    \n",
    "    \n",
    "plt.plot(range(1, 50, 2), train_scores, marker='o')\n",
    "plt.plot(range(1, 50, 2), test_scores, marker=\"x\")\n",
    "plt.xlabel(\"k neighbors\")\n",
    "plt.ylabel(\"Testing accuracy Score\")\n",
    "plt.show()"
   ]
  },
  {
   "cell_type": "code",
   "execution_count": 34,
   "id": "b1316f25-df5c-46f8-a7a4-90d4ed46e1f4",
   "metadata": {},
   "outputs": [],
   "source": [
    "# Initiate a knn algorithm for grid search\n",
    "knn_tuner = KNeighborsClassifier()"
   ]
  },
  {
   "cell_type": "code",
   "execution_count": 35,
   "id": "1c024a60-2d45-4979-922b-b15eabfecd84",
   "metadata": {},
   "outputs": [],
   "source": [
    "# Set parameters for grid search and initiate grid search\n",
    "n_neighbors = 37\n",
    "\n",
    "knn_param_grid = {\"n_neighbors\": [n_neighbors], \n",
    "                \"weights\" : ['uniform', 'distance'],\n",
    "                \"algorithm\" : ['auto', 'ball_tree', 'kd_tree', 'brute']}\n",
    "knn_grid = GridSearchCV(knn_tuner, knn_param_grid, verbose=3)"
   ]
  },
  {
   "cell_type": "code",
   "execution_count": 36,
   "id": "039fd46b-ae9f-40ed-89e2-982f49b5c593",
   "metadata": {
    "scrolled": true,
    "tags": []
   },
   "outputs": [
    {
     "name": "stdout",
     "output_type": "stream",
     "text": [
      "Fitting 5 folds for each of 8 candidates, totalling 40 fits\n",
      "[CV 1/5] END algorithm=auto, n_neighbors=37, weights=uniform; total time=   0.0s\n",
      "[CV 2/5] END algorithm=auto, n_neighbors=37, weights=uniform; total time=   0.0s\n",
      "[CV 3/5] END algorithm=auto, n_neighbors=37, weights=uniform; total time=   0.0s\n",
      "[CV 4/5] END algorithm=auto, n_neighbors=37, weights=uniform; total time=   0.0s\n",
      "[CV 5/5] END algorithm=auto, n_neighbors=37, weights=uniform; total time=   0.0s\n",
      "[CV 1/5] END algorithm=auto, n_neighbors=37, weights=distance; total time=   0.0s\n",
      "[CV 2/5] END algorithm=auto, n_neighbors=37, weights=distance; total time=   0.0s\n",
      "[CV 3/5] END algorithm=auto, n_neighbors=37, weights=distance; total time=   0.0s\n",
      "[CV 4/5] END algorithm=auto, n_neighbors=37, weights=distance; total time=   0.0s\n",
      "[CV 5/5] END algorithm=auto, n_neighbors=37, weights=distance; total time=   0.0s\n",
      "[CV 1/5] END algorithm=ball_tree, n_neighbors=37, weights=uniform; total time=   0.0s\n",
      "[CV 2/5] END algorithm=ball_tree, n_neighbors=37, weights=uniform; total time=   0.0s\n",
      "[CV 3/5] END algorithm=ball_tree, n_neighbors=37, weights=uniform; total time=   0.0s\n",
      "[CV 4/5] END algorithm=ball_tree, n_neighbors=37, weights=uniform; total time=   0.0s\n",
      "[CV 5/5] END algorithm=ball_tree, n_neighbors=37, weights=uniform; total time=   0.0s\n",
      "[CV 1/5] END algorithm=ball_tree, n_neighbors=37, weights=distance; total time=   0.0s\n",
      "[CV 2/5] END algorithm=ball_tree, n_neighbors=37, weights=distance; total time=   0.0s\n",
      "[CV 3/5] END algorithm=ball_tree, n_neighbors=37, weights=distance; total time=   0.0s\n",
      "[CV 4/5] END algorithm=ball_tree, n_neighbors=37, weights=distance; total time=   0.0s\n",
      "[CV 5/5] END algorithm=ball_tree, n_neighbors=37, weights=distance; total time=   0.0s\n",
      "[CV 1/5] END algorithm=kd_tree, n_neighbors=37, weights=uniform; total time=   0.0s\n",
      "[CV 2/5] END algorithm=kd_tree, n_neighbors=37, weights=uniform; total time=   0.0s\n",
      "[CV 3/5] END algorithm=kd_tree, n_neighbors=37, weights=uniform; total time=   0.0s\n",
      "[CV 4/5] END algorithm=kd_tree, n_neighbors=37, weights=uniform; total time=   0.0s\n",
      "[CV 5/5] END algorithm=kd_tree, n_neighbors=37, weights=uniform; total time=   0.0s\n",
      "[CV 1/5] END algorithm=kd_tree, n_neighbors=37, weights=distance; total time=   0.0s\n",
      "[CV 2/5] END algorithm=kd_tree, n_neighbors=37, weights=distance; total time=   0.0s\n",
      "[CV 3/5] END algorithm=kd_tree, n_neighbors=37, weights=distance; total time=   0.0s\n",
      "[CV 4/5] END algorithm=kd_tree, n_neighbors=37, weights=distance; total time=   0.0s\n",
      "[CV 5/5] END algorithm=kd_tree, n_neighbors=37, weights=distance; total time=   0.0s\n",
      "[CV 1/5] END algorithm=brute, n_neighbors=37, weights=uniform; total time=   0.0s\n",
      "[CV 2/5] END algorithm=brute, n_neighbors=37, weights=uniform; total time=   0.0s\n",
      "[CV 3/5] END algorithm=brute, n_neighbors=37, weights=uniform; total time=   0.0s\n",
      "[CV 4/5] END algorithm=brute, n_neighbors=37, weights=uniform; total time=   0.0s\n",
      "[CV 5/5] END algorithm=brute, n_neighbors=37, weights=uniform; total time=   0.0s\n",
      "[CV 1/5] END algorithm=brute, n_neighbors=37, weights=distance; total time=   0.0s\n",
      "[CV 2/5] END algorithm=brute, n_neighbors=37, weights=distance; total time=   0.0s\n",
      "[CV 3/5] END algorithm=brute, n_neighbors=37, weights=distance; total time=   0.0s\n",
      "[CV 4/5] END algorithm=brute, n_neighbors=37, weights=distance; total time=   0.0s\n",
      "[CV 5/5] END algorithm=brute, n_neighbors=37, weights=distance; total time=   0.0s\n"
     ]
    },
    {
     "data": {
      "text/plain": [
       "GridSearchCV(estimator=KNeighborsClassifier(),\n",
       "             param_grid={'algorithm': ['auto', 'ball_tree', 'kd_tree', 'brute'],\n",
       "                         'n_neighbors': [37],\n",
       "                         'weights': ['uniform', 'distance']},\n",
       "             verbose=3)"
      ]
     },
     "execution_count": 36,
     "metadata": {},
     "output_type": "execute_result"
    }
   ],
   "source": [
    "knn_grid.fit(X_train_scaled, y_train)"
   ]
  },
  {
   "cell_type": "code",
   "execution_count": 37,
   "id": "2025218d-4d20-4c82-9fb7-238f1f1942e1",
   "metadata": {},
   "outputs": [
    {
     "name": "stdout",
     "output_type": "stream",
     "text": [
      "{'algorithm': 'brute', 'n_neighbors': 37, 'weights': 'uniform'}\n",
      "0.677074348801104\n"
     ]
    }
   ],
   "source": [
    "print(knn_grid.best_params_)\n",
    "print(knn_grid.best_score_)"
   ]
  },
  {
   "cell_type": "code",
   "execution_count": 38,
   "id": "a382a91a-f2f2-4643-9527-6e463de3db33",
   "metadata": {},
   "outputs": [
    {
     "data": {
      "text/plain": [
       "('brute', 'uniform')"
      ]
     },
     "execution_count": 38,
     "metadata": {},
     "output_type": "execute_result"
    }
   ],
   "source": [
    "knn_best_params = knn_grid.best_params_\n",
    "algorithm = knn_best_params[\"algorithm\"]\n",
    "weights = knn_best_params[\"weights\"]\n",
    "algorithm,weights"
   ]
  },
  {
   "cell_type": "code",
   "execution_count": 39,
   "id": "69ffb069-81da-43fb-b568-a56fa1567b8d",
   "metadata": {},
   "outputs": [
    {
     "data": {
      "text/plain": [
       "KNeighborsClassifier(algorithm='brute', n_neighbors=37)"
      ]
     },
     "execution_count": 39,
     "metadata": {},
     "output_type": "execute_result"
    }
   ],
   "source": [
    "# Run the model with k=37\n",
    "knn = KNeighborsClassifier(n_neighbors=n_neighbors, algorithm=algorithm, weights=weights)\n",
    "knn.fit(X_train_scaled, y_train)"
   ]
  },
  {
   "cell_type": "code",
   "execution_count": 40,
   "id": "b3d9a3b4-f41f-4b3f-9bf5-707cdaffb9ea",
   "metadata": {},
   "outputs": [],
   "source": [
    "# Make preditions\n",
    "y_pred_knn = knn.predict(X_test_scaled)"
   ]
  },
  {
   "cell_type": "code",
   "execution_count": 41,
   "id": "6df49b66-c856-49df-9595-56bbc30897e1",
   "metadata": {},
   "outputs": [
    {
     "name": "stdout",
     "output_type": "stream",
     "text": [
      "k=37\n",
      "Training Data Score: 0.6952789699570815\n",
      "Testing Data Score: 0.7009646302250804\n"
     ]
    }
   ],
   "source": [
    "# Compare the training and testing scores\n",
    "print(\"k=37\")\n",
    "print(f\"Training Data Score: {knn.score(X_train_scaled, y_train)}\")\n",
    "print(f\"Testing Data Score: {knn.score(X_test_scaled, y_test)}\")"
   ]
  },
  {
   "cell_type": "code",
   "execution_count": 42,
   "id": "618b78bb-b939-4938-912b-7bf45eced170",
   "metadata": {},
   "outputs": [
    {
     "data": {
      "text/plain": [
       "0.7009646302250804"
      ]
     },
     "execution_count": 42,
     "metadata": {},
     "output_type": "execute_result"
    }
   ],
   "source": [
    "knn_test_score = knn.score(X_test_scaled, y_test)\n",
    "knn_test_score"
   ]
  },
  {
   "cell_type": "code",
   "execution_count": 43,
   "id": "daa9e150-36b2-41bf-89ee-e5e8107bf8bc",
   "metadata": {},
   "outputs": [
    {
     "name": "stdout",
     "output_type": "stream",
     "text": [
      "              precision    recall  f1-score   support\n",
      "\n",
      "          No       0.65      0.74      0.69       140\n",
      "         Yes       0.76      0.67      0.71       171\n",
      "\n",
      "    accuracy                           0.70       311\n",
      "   macro avg       0.70      0.70      0.70       311\n",
      "weighted avg       0.71      0.70      0.70       311\n",
      "\n"
     ]
    }
   ],
   "source": [
    "print(classification_report(y_test, y_pred_knn))"
   ]
  },
  {
   "cell_type": "code",
   "execution_count": 44,
   "id": "baa398ea-1350-4da3-b8d2-7b8cb71fc757",
   "metadata": {},
   "outputs": [
    {
     "data": {
      "image/png": "[encoded data removed]",
      "text/plain": [
       "<Figure size 432x288 with 2 Axes>"
      ]
     },
     "metadata": {
      "needs_background": "light"
     },
     "output_type": "display_data"
    }
   ],
   "source": [
    "# Create a confusion matrix to illustrate model accuracy\n",
    "knn_cm = confusion_matrix(y_test, y_pred_knn, labels=knn.classes_)\n",
    "disp_knn = ConfusionMatrixDisplay(confusion_matrix=knn_cm,\n",
    "                              display_labels=knn.classes_)\n",
    "disp.plot()\n",
    "plt.show()"
   ]
  },
  {
   "cell_type": "markdown",
   "id": "8dda7194-7331-4593-b358-6aeb20111d1b",
   "metadata": {},
   "source": [
    "## Testing Random Forest"
   ]
  },
  {
   "cell_type": "code",
   "execution_count": 45,
   "id": "dbe32354-380d-467b-801d-205d5cba28b0",
   "metadata": {},
   "outputs": [],
   "source": [
    "# Initialize a random forest model for grid search\n",
    "random_forest_tuner = RandomForestClassifier()"
   ]
  },
  {
   "cell_type": "code",
   "execution_count": 46,
   "id": "4bd6cca6-7849-47bc-a587-6c5a20e6ab60",
   "metadata": {},
   "outputs": [],
   "source": [
    "param_grid = {\"n_estimators\": [10,20,50,100, 200, 300, 500], \"max_depth\" : [2,5,8,10,15]}\n",
    "grid = GridSearchCV(random_forest_tuner, param_grid, verbose=3)"
   ]
  },
  {
   "cell_type": "code",
   "execution_count": 47,
   "id": "1cd62758-1296-4f96-aef3-1a127a811573",
   "metadata": {
    "scrolled": true,
    "tags": []
   },
   "outputs": [
    {
     "name": "stdout",
     "output_type": "stream",
     "text": [
      "Fitting 5 folds for each of 35 candidates, totalling 175 fits\n",
      "[CV 1/5] END ...................max_depth=2, n_estimators=10; total time=   0.0s\n",
      "[CV 2/5] END ...................max_depth=2, n_estimators=10; total time=   0.0s\n",
      "[CV 3/5] END ...................max_depth=2, n_estimators=10; total time=   0.0s\n",
      "[CV 4/5] END ...................max_depth=2, n_estimators=10; total time=   0.0s\n",
      "[CV 5/5] END ...................max_depth=2, n_estimators=10; total time=   0.0s\n",
      "[CV 1/5] END ...................max_depth=2, n_estimators=20; total time=   0.0s\n",
      "[CV 2/5] END ...................max_depth=2, n_estimators=20; total time=   0.0s\n",
      "[CV 3/5] END ...................max_depth=2, n_estimators=20; total time=   0.0s\n",
      "[CV 4/5] END ...................max_depth=2, n_estimators=20; total time=   0.0s\n",
      "[CV 5/5] END ...................max_depth=2, n_estimators=20; total time=   0.0s\n",
      "[CV 1/5] END ...................max_depth=2, n_estimators=50; total time=   0.0s\n",
      "[CV 2/5] END ...................max_depth=2, n_estimators=50; total time=   0.0s\n",
      "[CV 3/5] END ...................max_depth=2, n_estimators=50; total time=   0.0s\n",
      "[CV 4/5] END ...................max_depth=2, n_estimators=50; total time=   0.0s\n",
      "[CV 5/5] END ...................max_depth=2, n_estimators=50; total time=   0.0s\n",
      "[CV 1/5] END ..................max_depth=2, n_estimators=100; total time=   0.1s\n",
      "[CV 2/5] END ..................max_depth=2, n_estimators=100; total time=   0.1s\n",
      "[CV 3/5] END ..................max_depth=2, n_estimators=100; total time=   0.1s\n",
      "[CV 4/5] END ..................max_depth=2, n_estimators=100; total time=   0.1s\n",
      "[CV 5/5] END ..................max_depth=2, n_estimators=100; total time=   0.1s\n",
      "[CV 1/5] END ..................max_depth=2, n_estimators=200; total time=   0.2s\n",
      "[CV 2/5] END ..................max_depth=2, n_estimators=200; total time=   0.2s\n",
      "[CV 3/5] END ..................max_depth=2, n_estimators=200; total time=   0.2s\n",
      "[CV 4/5] END ..................max_depth=2, n_estimators=200; total time=   0.2s\n",
      "[CV 5/5] END ..................max_depth=2, n_estimators=200; total time=   0.2s\n",
      "[CV 1/5] END ..................max_depth=2, n_estimators=300; total time=   0.2s\n",
      "[CV 2/5] END ..................max_depth=2, n_estimators=300; total time=   0.2s\n",
      "[CV 3/5] END ..................max_depth=2, n_estimators=300; total time=   0.2s\n",
      "[CV 4/5] END ..................max_depth=2, n_estimators=300; total time=   0.2s\n",
      "[CV 5/5] END ..................max_depth=2, n_estimators=300; total time=   0.2s\n",
      "[CV 1/5] END ..................max_depth=2, n_estimators=500; total time=   0.4s\n",
      "[CV 2/5] END ..................max_depth=2, n_estimators=500; total time=   0.4s\n",
      "[CV 3/5] END ..................max_depth=2, n_estimators=500; total time=   0.4s\n",
      "[CV 4/5] END ..................max_depth=2, n_estimators=500; total time=   0.4s\n",
      "[CV 5/5] END ..................max_depth=2, n_estimators=500; total time=   0.4s\n",
      "[CV 1/5] END ...................max_depth=5, n_estimators=10; total time=   0.0s\n",
      "[CV 2/5] END ...................max_depth=5, n_estimators=10; total time=   0.0s\n",
      "[CV 3/5] END ...................max_depth=5, n_estimators=10; total time=   0.0s\n",
      "[CV 4/5] END ...................max_depth=5, n_estimators=10; total time=   0.0s\n",
      "[CV 5/5] END ...................max_depth=5, n_estimators=10; total time=   0.0s\n",
      "[CV 1/5] END ...................max_depth=5, n_estimators=20; total time=   0.0s\n",
      "[CV 2/5] END ...................max_depth=5, n_estimators=20; total time=   0.0s\n",
      "[CV 3/5] END ...................max_depth=5, n_estimators=20; total time=   0.0s\n",
      "[CV 4/5] END ...................max_depth=5, n_estimators=20; total time=   0.0s\n",
      "[CV 5/5] END ...................max_depth=5, n_estimators=20; total time=   0.0s\n",
      "[CV 1/5] END ...................max_depth=5, n_estimators=50; total time=   0.0s\n",
      "[CV 2/5] END ...................max_depth=5, n_estimators=50; total time=   0.0s\n",
      "[CV 3/5] END ...................max_depth=5, n_estimators=50; total time=   0.0s\n",
      "[CV 4/5] END ...................max_depth=5, n_estimators=50; total time=   0.0s\n",
      "[CV 5/5] END ...................max_depth=5, n_estimators=50; total time=   0.0s\n",
      "[CV 1/5] END ..................max_depth=5, n_estimators=100; total time=   0.1s\n",
      "[CV 2/5] END ..................max_depth=5, n_estimators=100; total time=   0.1s\n",
      "[CV 3/5] END ..................max_depth=5, n_estimators=100; total time=   0.1s\n",
      "[CV 4/5] END ..................max_depth=5, n_estimators=100; total time=   0.1s\n",
      "[CV 5/5] END ..................max_depth=5, n_estimators=100; total time=   0.1s\n",
      "[CV 1/5] END ..................max_depth=5, n_estimators=200; total time=   0.2s\n",
      "[CV 2/5] END ..................max_depth=5, n_estimators=200; total time=   0.2s\n",
      "[CV 3/5] END ..................max_depth=5, n_estimators=200; total time=   0.2s\n",
      "[CV 4/5] END ..................max_depth=5, n_estimators=200; total time=   0.2s\n",
      "[CV 5/5] END ..................max_depth=5, n_estimators=200; total time=   0.2s\n",
      "[CV 1/5] END ..................max_depth=5, n_estimators=300; total time=   0.3s\n",
      "[CV 2/5] END ..................max_depth=5, n_estimators=300; total time=   0.2s\n",
      "[CV 3/5] END ..................max_depth=5, n_estimators=300; total time=   0.3s\n",
      "[CV 4/5] END ..................max_depth=5, n_estimators=300; total time=   0.2s\n",
      "[CV 5/5] END ..................max_depth=5, n_estimators=300; total time=   0.2s\n",
      "[CV 1/5] END ..................max_depth=5, n_estimators=500; total time=   0.4s\n",
      "[CV 2/5] END ..................max_depth=5, n_estimators=500; total time=   0.4s\n",
      "[CV 3/5] END ..................max_depth=5, n_estimators=500; total time=   0.4s\n",
      "[CV 4/5] END ..................max_depth=5, n_estimators=500; total time=   0.4s\n",
      "[CV 5/5] END ..................max_depth=5, n_estimators=500; total time=   0.4s\n",
      "[CV 1/5] END ...................max_depth=8, n_estimators=10; total time=   0.0s\n",
      "[CV 2/5] END ...................max_depth=8, n_estimators=10; total time=   0.0s\n",
      "[CV 3/5] END ...................max_depth=8, n_estimators=10; total time=   0.0s\n",
      "[CV 4/5] END ...................max_depth=8, n_estimators=10; total time=   0.0s\n",
      "[CV 5/5] END ...................max_depth=8, n_estimators=10; total time=   0.0s\n",
      "[CV 1/5] END ...................max_depth=8, n_estimators=20; total time=   0.0s\n",
      "[CV 2/5] END ...................max_depth=8, n_estimators=20; total time=   0.0s\n",
      "[CV 3/5] END ...................max_depth=8, n_estimators=20; total time=   0.0s\n",
      "[CV 4/5] END ...................max_depth=8, n_estimators=20; total time=   0.0s\n",
      "[CV 5/5] END ...................max_depth=8, n_estimators=20; total time=   0.0s\n",
      "[CV 1/5] END ...................max_depth=8, n_estimators=50; total time=   0.0s\n",
      "[CV 2/5] END ...................max_depth=8, n_estimators=50; total time=   0.0s\n",
      "[CV 3/5] END ...................max_depth=8, n_estimators=50; total time=   0.0s\n",
      "[CV 4/5] END ...................max_depth=8, n_estimators=50; total time=   0.0s\n",
      "[CV 5/5] END ...................max_depth=8, n_estimators=50; total time=   0.0s\n",
      "[CV 1/5] END ..................max_depth=8, n_estimators=100; total time=   0.1s\n",
      "[CV 2/5] END ..................max_depth=8, n_estimators=100; total time=   0.1s\n",
      "[CV 3/5] END ..................max_depth=8, n_estimators=100; total time=   0.1s\n",
      "[CV 4/5] END ..................max_depth=8, n_estimators=100; total time=   0.1s\n",
      "[CV 5/5] END ..................max_depth=8, n_estimators=100; total time=   0.1s\n",
      "[CV 1/5] END ..................max_depth=8, n_estimators=200; total time=   0.2s\n",
      "[CV 2/5] END ..................max_depth=8, n_estimators=200; total time=   0.2s\n",
      "[CV 3/5] END ..................max_depth=8, n_estimators=200; total time=   0.2s\n",
      "[CV 4/5] END ..................max_depth=8, n_estimators=200; total time=   0.2s\n",
      "[CV 5/5] END ..................max_depth=8, n_estimators=200; total time=   0.2s\n",
      "[CV 1/5] END ..................max_depth=8, n_estimators=300; total time=   0.3s\n",
      "[CV 2/5] END ..................max_depth=8, n_estimators=300; total time=   0.3s\n",
      "[CV 3/5] END ..................max_depth=8, n_estimators=300; total time=   0.3s\n",
      "[CV 4/5] END ..................max_depth=8, n_estimators=300; total time=   0.3s\n",
      "[CV 5/5] END ..................max_depth=8, n_estimators=300; total time=   0.3s\n",
      "[CV 1/5] END ..................max_depth=8, n_estimators=500; total time=   0.4s\n",
      "[CV 2/5] END ..................max_depth=8, n_estimators=500; total time=   0.4s\n",
      "[CV 3/5] END ..................max_depth=8, n_estimators=500; total time=   0.4s\n",
      "[CV 4/5] END ..................max_depth=8, n_estimators=500; total time=   0.5s\n",
      "[CV 5/5] END ..................max_depth=8, n_estimators=500; total time=   0.5s\n",
      "[CV 1/5] END ..................max_depth=10, n_estimators=10; total time=   0.0s\n",
      "[CV 2/5] END ..................max_depth=10, n_estimators=10; total time=   0.0s\n",
      "[CV 3/5] END ..................max_depth=10, n_estimators=10; total time=   0.0s\n",
      "[CV 4/5] END ..................max_depth=10, n_estimators=10; total time=   0.0s\n",
      "[CV 5/5] END ..................max_depth=10, n_estimators=10; total time=   0.0s\n",
      "[CV 1/5] END ..................max_depth=10, n_estimators=20; total time=   0.0s\n",
      "[CV 2/5] END ..................max_depth=10, n_estimators=20; total time=   0.0s\n",
      "[CV 3/5] END ..................max_depth=10, n_estimators=20; total time=   0.0s\n",
      "[CV 4/5] END ..................max_depth=10, n_estimators=20; total time=   0.0s\n",
      "[CV 5/5] END ..................max_depth=10, n_estimators=20; total time=   0.0s\n",
      "[CV 1/5] END ..................max_depth=10, n_estimators=50; total time=   0.1s\n",
      "[CV 2/5] END ..................max_depth=10, n_estimators=50; total time=   0.1s\n",
      "[CV 3/5] END ..................max_depth=10, n_estimators=50; total time=   0.1s\n",
      "[CV 4/5] END ..................max_depth=10, n_estimators=50; total time=   0.1s\n",
      "[CV 5/5] END ..................max_depth=10, n_estimators=50; total time=   0.1s\n",
      "[CV 1/5] END .................max_depth=10, n_estimators=100; total time=   0.1s\n",
      "[CV 2/5] END .................max_depth=10, n_estimators=100; total time=   0.1s\n",
      "[CV 3/5] END .................max_depth=10, n_estimators=100; total time=   0.1s\n",
      "[CV 4/5] END .................max_depth=10, n_estimators=100; total time=   0.1s\n",
      "[CV 5/5] END .................max_depth=10, n_estimators=100; total time=   0.1s\n",
      "[CV 1/5] END .................max_depth=10, n_estimators=200; total time=   0.2s\n",
      "[CV 2/5] END .................max_depth=10, n_estimators=200; total time=   0.2s\n",
      "[CV 3/5] END .................max_depth=10, n_estimators=200; total time=   0.2s\n",
      "[CV 4/5] END .................max_depth=10, n_estimators=200; total time=   0.2s\n",
      "[CV 5/5] END .................max_depth=10, n_estimators=200; total time=   0.2s\n",
      "[CV 1/5] END .................max_depth=10, n_estimators=300; total time=   0.3s\n",
      "[CV 2/5] END .................max_depth=10, n_estimators=300; total time=   0.3s\n",
      "[CV 3/5] END .................max_depth=10, n_estimators=300; total time=   0.3s\n",
      "[CV 4/5] END .................max_depth=10, n_estimators=300; total time=   0.3s\n",
      "[CV 5/5] END .................max_depth=10, n_estimators=300; total time=   0.3s\n",
      "[CV 1/5] END .................max_depth=10, n_estimators=500; total time=   0.5s\n",
      "[CV 2/5] END .................max_depth=10, n_estimators=500; total time=   0.5s\n",
      "[CV 3/5] END .................max_depth=10, n_estimators=500; total time=   0.5s\n",
      "[CV 4/5] END .................max_depth=10, n_estimators=500; total time=   0.5s\n",
      "[CV 5/5] END .................max_depth=10, n_estimators=500; total time=   0.5s\n",
      "[CV 1/5] END ..................max_depth=15, n_estimators=10; total time=   0.0s\n",
      "[CV 2/5] END ..................max_depth=15, n_estimators=10; total time=   0.0s\n",
      "[CV 3/5] END ..................max_depth=15, n_estimators=10; total time=   0.0s\n",
      "[CV 4/5] END ..................max_depth=15, n_estimators=10; total time=   0.0s\n",
      "[CV 5/5] END ..................max_depth=15, n_estimators=10; total time=   0.0s\n",
      "[CV 1/5] END ..................max_depth=15, n_estimators=20; total time=   0.0s\n",
      "[CV 2/5] END ..................max_depth=15, n_estimators=20; total time=   0.0s\n",
      "[CV 3/5] END ..................max_depth=15, n_estimators=20; total time=   0.0s\n",
      "[CV 4/5] END ..................max_depth=15, n_estimators=20; total time=   0.0s\n",
      "[CV 5/5] END ..................max_depth=15, n_estimators=20; total time=   0.0s\n",
      "[CV 1/5] END ..................max_depth=15, n_estimators=50; total time=   0.1s\n",
      "[CV 2/5] END ..................max_depth=15, n_estimators=50; total time=   0.1s\n",
      "[CV 3/5] END ..................max_depth=15, n_estimators=50; total time=   0.1s\n",
      "[CV 4/5] END ..................max_depth=15, n_estimators=50; total time=   0.1s\n",
      "[CV 5/5] END ..................max_depth=15, n_estimators=50; total time=   0.1s\n",
      "[CV 1/5] END .................max_depth=15, n_estimators=100; total time=   0.1s\n",
      "[CV 2/5] END .................max_depth=15, n_estimators=100; total time=   0.1s\n",
      "[CV 3/5] END .................max_depth=15, n_estimators=100; total time=   0.1s\n",
      "[CV 4/5] END .................max_depth=15, n_estimators=100; total time=   0.1s\n",
      "[CV 5/5] END .................max_depth=15, n_estimators=100; total time=   0.1s\n",
      "[CV 1/5] END .................max_depth=15, n_estimators=200; total time=   0.2s\n",
      "[CV 2/5] END .................max_depth=15, n_estimators=200; total time=   0.2s\n",
      "[CV 3/5] END .................max_depth=15, n_estimators=200; total time=   0.2s\n",
      "[CV 4/5] END .................max_depth=15, n_estimators=200; total time=   0.2s\n",
      "[CV 5/5] END .................max_depth=15, n_estimators=200; total time=   0.2s\n",
      "[CV 1/5] END .................max_depth=15, n_estimators=300; total time=   0.3s\n",
      "[CV 2/5] END .................max_depth=15, n_estimators=300; total time=   0.3s\n",
      "[CV 3/5] END .................max_depth=15, n_estimators=300; total time=   0.3s\n",
      "[CV 4/5] END .................max_depth=15, n_estimators=300; total time=   0.3s\n",
      "[CV 5/5] END .................max_depth=15, n_estimators=300; total time=   0.3s\n",
      "[CV 1/5] END .................max_depth=15, n_estimators=500; total time=   0.5s\n",
      "[CV 2/5] END .................max_depth=15, n_estimators=500; total time=   0.5s\n",
      "[CV 3/5] END .................max_depth=15, n_estimators=500; total time=   0.5s\n",
      "[CV 4/5] END .................max_depth=15, n_estimators=500; total time=   0.5s\n",
      "[CV 5/5] END .................max_depth=15, n_estimators=500; total time=   0.6s\n"
     ]
    },
    {
     "data": {
      "text/plain": [
       "GridSearchCV(estimator=RandomForestClassifier(),\n",
       "             param_grid={'max_depth': [2, 5, 8, 10, 15],\n",
       "                         'n_estimators': [10, 20, 50, 100, 200, 300, 500]},\n",
       "             verbose=3)"
      ]
     },
     "execution_count": 47,
     "metadata": {},
     "output_type": "execute_result"
    }
   ],
   "source": [
    "grid.fit(X_train, y_train)"
   ]
  },
  {
   "cell_type": "code",
   "execution_count": 48,
   "id": "27cc86af-271c-421f-8917-a35173f74059",
   "metadata": {},
   "outputs": [
    {
     "name": "stdout",
     "output_type": "stream",
     "text": [
      "{'max_depth': 2, 'n_estimators': 50}\n",
      "0.6963889368063942\n"
     ]
    }
   ],
   "source": [
    "print(grid.best_params_)\n",
    "print(grid.best_score_)"
   ]
  },
  {
   "cell_type": "code",
   "execution_count": 49,
   "id": "41e057c5-29fc-4870-abc7-0c6721e812aa",
   "metadata": {},
   "outputs": [
    {
     "data": {
      "text/plain": [
       "(2, 50)"
      ]
     },
     "execution_count": 49,
     "metadata": {},
     "output_type": "execute_result"
    }
   ],
   "source": [
    "rf_best_params = grid.best_params_\n",
    "max_depth = rf_best_params[\"max_depth\"]\n",
    "n_estimators = rf_best_params[\"n_estimators\"]\n",
    "max_depth,n_estimators"
   ]
  },
  {
   "cell_type": "code",
   "execution_count": 50,
   "id": "e476e34f-3358-41af-94c7-815087080063",
   "metadata": {},
   "outputs": [],
   "source": [
    "random_forest = RandomForestClassifier(random_state=1, max_depth=max_depth, n_estimators=n_estimators).fit(X_train, y_train)"
   ]
  },
  {
   "cell_type": "code",
   "execution_count": 51,
   "id": "0ca7548b-71a9-4841-8991-4f8fe60af74a",
   "metadata": {
    "tags": []
   },
   "outputs": [],
   "source": [
    "# Make preditions\n",
    "y_pred_rf = random_forest.predict(X_test)"
   ]
  },
  {
   "cell_type": "code",
   "execution_count": 52,
   "id": "9dd4583c-7744-4218-b2dd-6aa83aa551ac",
   "metadata": {},
   "outputs": [
    {
     "name": "stdout",
     "output_type": "stream",
     "text": [
      "Training Data Score: 0.6963519313304721\n",
      "Testing Data Score: 0.6977491961414791\n"
     ]
    }
   ],
   "source": [
    "# Compare training data with test data \n",
    "print(f\"Training Data Score: {random_forest.score(X_train, y_train)}\")\n",
    "print(f\"Testing Data Score: {random_forest.score(X_test, y_test)}\")"
   ]
  },
  {
   "cell_type": "code",
   "execution_count": 53,
   "id": "98757fc2-3166-4c4c-bd57-e092f829bdab",
   "metadata": {},
   "outputs": [
    {
     "data": {
      "text/plain": [
       "0.6977491961414791"
      ]
     },
     "execution_count": 53,
     "metadata": {},
     "output_type": "execute_result"
    }
   ],
   "source": [
    "# Assign accuracy score of random forest model to variable\n",
    "rf_test_score = random_forest.score(X_test, y_test)\n",
    "rf_test_score"
   ]
  },
  {
   "cell_type": "code",
   "execution_count": 54,
   "id": "b9779da3-b72c-4663-b179-ede33e70c1f2",
   "metadata": {},
   "outputs": [
    {
     "name": "stdout",
     "output_type": "stream",
     "text": [
      "              precision    recall  f1-score   support\n",
      "\n",
      "          No       0.65      0.71      0.68       140\n",
      "         Yes       0.74      0.69      0.72       171\n",
      "\n",
      "    accuracy                           0.70       311\n",
      "   macro avg       0.70      0.70      0.70       311\n",
      "weighted avg       0.70      0.70      0.70       311\n",
      "\n"
     ]
    }
   ],
   "source": [
    "print(classification_report(y_test, y_pred_rf))"
   ]
  },
  {
   "cell_type": "code",
   "execution_count": 55,
   "id": "71f8daec-112d-413e-a4a9-8dffb30b2a1c",
   "metadata": {},
   "outputs": [
    {
     "data": {
      "image/png": "[encoded data removed]",
      "text/plain": [
       "<Figure size 432x288 with 2 Axes>"
      ]
     },
     "metadata": {
      "needs_background": "light"
     },
     "output_type": "display_data"
    }
   ],
   "source": [
    "# Create a confusion matrix to illustrate model accuracy\n",
    "rf_cm = confusion_matrix(y_test, y_pred_rf, labels=random_forest.classes_)\n",
    "disp_rf = ConfusionMatrixDisplay(confusion_matrix=rf_cm,\n",
    "                              display_labels=random_forest.classes_)\n",
    "disp.plot()\n",
    "plt.show()"
   ]
  },
  {
   "cell_type": "markdown",
   "id": "2621e4e7-d3c7-4eff-a6ef-96d7a4564d6e",
   "metadata": {},
   "source": [
    "## Testing Support Vector Machines"
   ]
  },
  {
   "cell_type": "code",
   "execution_count": 56,
   "id": "a613cb82-6b10-486f-9e69-1e0b49314f6a",
   "metadata": {
    "scrolled": true,
    "tags": []
   },
   "outputs": [
    {
     "name": "stdout",
     "output_type": "stream",
     "text": [
      "Fitting 5 folds for each of 20 candidates, totalling 100 fits\n",
      "[CV 1/5] END ..........................C=0.25, kernel=linear; total time=   0.0s\n",
      "[CV 2/5] END ..........................C=0.25, kernel=linear; total time=   0.0s\n",
      "[CV 3/5] END ..........................C=0.25, kernel=linear; total time=   0.0s\n",
      "[CV 4/5] END ..........................C=0.25, kernel=linear; total time=   0.0s\n",
      "[CV 5/5] END ..........................C=0.25, kernel=linear; total time=   0.0s\n",
      "[CV 1/5] END ............................C=0.25, kernel=poly; total time=   0.0s\n",
      "[CV 2/5] END ............................C=0.25, kernel=poly; total time=   0.0s\n",
      "[CV 3/5] END ............................C=0.25, kernel=poly; total time=   0.0s\n",
      "[CV 4/5] END ............................C=0.25, kernel=poly; total time=   0.0s\n",
      "[CV 5/5] END ............................C=0.25, kernel=poly; total time=   0.0s\n",
      "[CV 1/5] END .............................C=0.25, kernel=rbf; total time=   0.0s\n",
      "[CV 2/5] END .............................C=0.25, kernel=rbf; total time=   0.0s\n",
      "[CV 3/5] END .............................C=0.25, kernel=rbf; total time=   0.0s\n",
      "[CV 4/5] END .............................C=0.25, kernel=rbf; total time=   0.0s\n",
      "[CV 5/5] END .............................C=0.25, kernel=rbf; total time=   0.0s\n",
      "[CV 1/5] END .........................C=0.25, kernel=sigmoid; total time=   0.0s\n",
      "[CV 2/5] END .........................C=0.25, kernel=sigmoid; total time=   0.0s\n",
      "[CV 3/5] END .........................C=0.25, kernel=sigmoid; total time=   0.0s\n",
      "[CV 4/5] END .........................C=0.25, kernel=sigmoid; total time=   0.0s\n",
      "[CV 5/5] END .........................C=0.25, kernel=sigmoid; total time=   0.0s\n",
      "[CV 1/5] END ...........................C=0.5, kernel=linear; total time=   0.0s\n",
      "[CV 2/5] END ...........................C=0.5, kernel=linear; total time=   0.0s\n",
      "[CV 3/5] END ...........................C=0.5, kernel=linear; total time=   0.0s\n",
      "[CV 4/5] END ...........................C=0.5, kernel=linear; total time=   0.0s\n",
      "[CV 5/5] END ...........................C=0.5, kernel=linear; total time=   0.0s\n",
      "[CV 1/5] END .............................C=0.5, kernel=poly; total time=   0.0s\n",
      "[CV 2/5] END .............................C=0.5, kernel=poly; total time=   0.0s\n",
      "[CV 3/5] END .............................C=0.5, kernel=poly; total time=   0.0s\n",
      "[CV 4/5] END .............................C=0.5, kernel=poly; total time=   0.0s\n",
      "[CV 5/5] END .............................C=0.5, kernel=poly; total time=   0.0s\n",
      "[CV 1/5] END ..............................C=0.5, kernel=rbf; total time=   0.0s\n",
      "[CV 2/5] END ..............................C=0.5, kernel=rbf; total time=   0.0s\n",
      "[CV 3/5] END ..............................C=0.5, kernel=rbf; total time=   0.0s\n",
      "[CV 4/5] END ..............................C=0.5, kernel=rbf; total time=   0.0s\n",
      "[CV 5/5] END ..............................C=0.5, kernel=rbf; total time=   0.0s\n",
      "[CV 1/5] END ..........................C=0.5, kernel=sigmoid; total time=   0.0s\n",
      "[CV 2/5] END ..........................C=0.5, kernel=sigmoid; total time=   0.0s\n",
      "[CV 3/5] END ..........................C=0.5, kernel=sigmoid; total time=   0.0s\n",
      "[CV 4/5] END ..........................C=0.5, kernel=sigmoid; total time=   0.0s\n",
      "[CV 5/5] END ..........................C=0.5, kernel=sigmoid; total time=   0.0s\n",
      "[CV 1/5] END ...........................C=1.0, kernel=linear; total time=   0.0s\n",
      "[CV 2/5] END ...........................C=1.0, kernel=linear; total time=   0.0s\n",
      "[CV 3/5] END ...........................C=1.0, kernel=linear; total time=   0.0s\n",
      "[CV 4/5] END ...........................C=1.0, kernel=linear; total time=   0.0s\n",
      "[CV 5/5] END ...........................C=1.0, kernel=linear; total time=   0.0s\n",
      "[CV 1/5] END .............................C=1.0, kernel=poly; total time=   0.0s\n",
      "[CV 2/5] END .............................C=1.0, kernel=poly; total time=   0.0s\n",
      "[CV 3/5] END .............................C=1.0, kernel=poly; total time=   0.0s\n",
      "[CV 4/5] END .............................C=1.0, kernel=poly; total time=   0.0s\n",
      "[CV 5/5] END .............................C=1.0, kernel=poly; total time=   0.0s\n",
      "[CV 1/5] END ..............................C=1.0, kernel=rbf; total time=   0.0s\n",
      "[CV 2/5] END ..............................C=1.0, kernel=rbf; total time=   0.0s\n",
      "[CV 3/5] END ..............................C=1.0, kernel=rbf; total time=   0.0s\n",
      "[CV 4/5] END ..............................C=1.0, kernel=rbf; total time=   0.0s\n",
      "[CV 5/5] END ..............................C=1.0, kernel=rbf; total time=   0.0s\n",
      "[CV 1/5] END ..........................C=1.0, kernel=sigmoid; total time=   0.0s\n",
      "[CV 2/5] END ..........................C=1.0, kernel=sigmoid; total time=   0.0s\n",
      "[CV 3/5] END ..........................C=1.0, kernel=sigmoid; total time=   0.0s\n",
      "[CV 4/5] END ..........................C=1.0, kernel=sigmoid; total time=   0.0s\n",
      "[CV 5/5] END ..........................C=1.0, kernel=sigmoid; total time=   0.0s\n",
      "[CV 1/5] END ...........................C=2.0, kernel=linear; total time=   0.0s\n",
      "[CV 2/5] END ...........................C=2.0, kernel=linear; total time=   0.0s\n",
      "[CV 3/5] END ...........................C=2.0, kernel=linear; total time=   0.0s\n",
      "[CV 4/5] END ...........................C=2.0, kernel=linear; total time=   0.0s\n",
      "[CV 5/5] END ...........................C=2.0, kernel=linear; total time=   0.0s\n",
      "[CV 1/5] END .............................C=2.0, kernel=poly; total time=   0.0s\n",
      "[CV 2/5] END .............................C=2.0, kernel=poly; total time=   0.0s\n",
      "[CV 3/5] END .............................C=2.0, kernel=poly; total time=   0.0s\n",
      "[CV 4/5] END .............................C=2.0, kernel=poly; total time=   0.0s\n",
      "[CV 5/5] END .............................C=2.0, kernel=poly; total time=   0.0s\n",
      "[CV 1/5] END ..............................C=2.0, kernel=rbf; total time=   0.0s\n",
      "[CV 2/5] END ..............................C=2.0, kernel=rbf; total time=   0.0s\n",
      "[CV 3/5] END ..............................C=2.0, kernel=rbf; total time=   0.0s\n",
      "[CV 4/5] END ..............................C=2.0, kernel=rbf; total time=   0.0s\n",
      "[CV 5/5] END ..............................C=2.0, kernel=rbf; total time=   0.0s\n",
      "[CV 1/5] END ..........................C=2.0, kernel=sigmoid; total time=   0.0s\n",
      "[CV 2/5] END ..........................C=2.0, kernel=sigmoid; total time=   0.0s\n",
      "[CV 3/5] END ..........................C=2.0, kernel=sigmoid; total time=   0.0s\n",
      "[CV 4/5] END ..........................C=2.0, kernel=sigmoid; total time=   0.0s\n",
      "[CV 5/5] END ..........................C=2.0, kernel=sigmoid; total time=   0.0s\n",
      "[CV 1/5] END ...........................C=4.0, kernel=linear; total time=   0.0s\n",
      "[CV 2/5] END ...........................C=4.0, kernel=linear; total time=   0.0s\n",
      "[CV 3/5] END ...........................C=4.0, kernel=linear; total time=   0.0s\n",
      "[CV 4/5] END ...........................C=4.0, kernel=linear; total time=   0.0s\n",
      "[CV 5/5] END ...........................C=4.0, kernel=linear; total time=   0.0s\n",
      "[CV 1/5] END .............................C=4.0, kernel=poly; total time=   0.0s\n",
      "[CV 2/5] END .............................C=4.0, kernel=poly; total time=   0.0s\n",
      "[CV 3/5] END .............................C=4.0, kernel=poly; total time=   0.0s\n",
      "[CV 4/5] END .............................C=4.0, kernel=poly; total time=   0.0s\n",
      "[CV 5/5] END .............................C=4.0, kernel=poly; total time=   0.0s\n",
      "[CV 1/5] END ..............................C=4.0, kernel=rbf; total time=   0.0s\n",
      "[CV 2/5] END ..............................C=4.0, kernel=rbf; total time=   0.0s\n",
      "[CV 3/5] END ..............................C=4.0, kernel=rbf; total time=   0.0s\n",
      "[CV 4/5] END ..............................C=4.0, kernel=rbf; total time=   0.0s\n",
      "[CV 5/5] END ..............................C=4.0, kernel=rbf; total time=   0.0s\n",
      "[CV 1/5] END ..........................C=4.0, kernel=sigmoid; total time=   0.0s\n",
      "[CV 2/5] END ..........................C=4.0, kernel=sigmoid; total time=   0.0s\n",
      "[CV 3/5] END ..........................C=4.0, kernel=sigmoid; total time=   0.0s\n",
      "[CV 4/5] END ..........................C=4.0, kernel=sigmoid; total time=   0.0s\n",
      "[CV 5/5] END ..........................C=4.0, kernel=sigmoid; total time=   0.0s\n"
     ]
    },
    {
     "data": {
      "text/plain": [
       "GridSearchCV(estimator=SVC(),\n",
       "             param_grid={'C': [0.25, 0.5, 1.0, 2.0, 4.0],\n",
       "                         'kernel': ['linear', 'poly', 'rbf', 'sigmoid']},\n",
       "             verbose=3)"
      ]
     },
     "execution_count": 56,
     "metadata": {},
     "output_type": "execute_result"
    }
   ],
   "source": [
    "svc_tuner = SVC()\n",
    "svc_param_grid = {\"kernel\": ['linear', 'poly', 'rbf', 'sigmoid'], \"C\" : [0.25, 0.5, 1.0, 2.0, 4.0]}\n",
    "svc_grid = GridSearchCV(svc_tuner, svc_param_grid, verbose=3)\n",
    "svc_grid.fit(X_train_scaled, y_train)"
   ]
  },
  {
   "cell_type": "code",
   "execution_count": 57,
   "id": "0d8fc144-ff82-4584-93ce-9bb98b1680a6",
   "metadata": {},
   "outputs": [
    {
     "name": "stdout",
     "output_type": "stream",
     "text": [
      "{'C': 0.25, 'kernel': 'rbf'}\n",
      "0.6953136679891898\n"
     ]
    }
   ],
   "source": [
    "print(svc_grid.best_params_)\n",
    "print(svc_grid.best_score_)"
   ]
  },
  {
   "cell_type": "code",
   "execution_count": 58,
   "id": "04612716-41d8-44a9-af95-3582a7c3a212",
   "metadata": {},
   "outputs": [
    {
     "data": {
      "text/plain": [
       "(0.25, 'rbf')"
      ]
     },
     "execution_count": 58,
     "metadata": {},
     "output_type": "execute_result"
    }
   ],
   "source": [
    "# Fit to the training data, and validate with the testing data\n",
    "svc_best_params = svc_grid.best_params_\n",
    "c_svc = svc_best_params[\"C\"]\n",
    "kernel = svc_best_params[\"kernel\"]\n",
    "c_svc,kernel"
   ]
  },
  {
   "cell_type": "code",
   "execution_count": 59,
   "id": "db53c47d-5408-4327-b799-1bf611cd363f",
   "metadata": {},
   "outputs": [],
   "source": [
    "svc = SVC(C=c, kernel=kernel)\n",
    "svc.fit(X_train_scaled, y_train)\n",
    "y_pred_svc = svc.predict(X_test_scaled)"
   ]
  },
  {
   "cell_type": "code",
   "execution_count": 60,
   "id": "0c93b1b9-d8b6-4ca3-880a-a7da0612cf22",
   "metadata": {},
   "outputs": [
    {
     "name": "stdout",
     "output_type": "stream",
     "text": [
      "Training Data Score: 0.7006437768240343\n",
      "Testing Data Score: 0.6913183279742765\n"
     ]
    }
   ],
   "source": [
    "# Compare training data with test data \n",
    "print(f\"Training Data Score: {svc.score(X_train_scaled, y_train)}\")\n",
    "print(f\"Testing Data Score: {svc.score(X_test_scaled, y_test)}\")"
   ]
  },
  {
   "cell_type": "code",
   "execution_count": 61,
   "id": "089975ce-2325-48f9-b508-fa8e2af6e980",
   "metadata": {},
   "outputs": [
    {
     "data": {
      "text/plain": [
       "0.6913183279742765"
      ]
     },
     "execution_count": 61,
     "metadata": {},
     "output_type": "execute_result"
    }
   ],
   "source": [
    "# Assign accuracy score of SVC model to variable\n",
    "svc_test_score = svc.score(X_test_scaled, y_test)\n",
    "svc_test_score"
   ]
  },
  {
   "cell_type": "code",
   "execution_count": 62,
   "id": "6ce97ad7-3756-47db-9c98-516a879e73f5",
   "metadata": {},
   "outputs": [
    {
     "name": "stdout",
     "output_type": "stream",
     "text": [
      "              precision    recall  f1-score   support\n",
      "\n",
      "          No       0.65      0.69      0.67       140\n",
      "         Yes       0.73      0.69      0.71       171\n",
      "\n",
      "    accuracy                           0.69       311\n",
      "   macro avg       0.69      0.69      0.69       311\n",
      "weighted avg       0.69      0.69      0.69       311\n",
      "\n"
     ]
    }
   ],
   "source": [
    "print(classification_report(y_test, y_pred_svc))"
   ]
  },
  {
   "cell_type": "code",
   "execution_count": 63,
   "id": "5f48cbb5-0201-47e3-90d0-544bbf2d9b31",
   "metadata": {},
   "outputs": [
    {
     "data": {
      "image/png": "[encoded data removed]",
      "text/plain": [
       "<Figure size 432x288 with 2 Axes>"
      ]
     },
     "metadata": {
      "needs_background": "light"
     },
     "output_type": "display_data"
    }
   ],
   "source": [
    "# Create a confusion matrix to illustrate model accuracy\n",
    "svc_cm = confusion_matrix(y_test, y_pred_rf, labels=svc.classes_)\n",
    "disp_svc = ConfusionMatrixDisplay(confusion_matrix=rf_cm,\n",
    "                              display_labels=svc.classes_)\n",
    "disp.plot()\n",
    "plt.show()"
   ]
  },
  {
   "cell_type": "markdown",
   "id": "42bd75a6-1f0e-4a1c-ba6e-d76df1ce9ea4",
   "metadata": {},
   "source": [
    "## Compare models to see which works best"
   ]
  },
  {
   "cell_type": "code",
   "execution_count": 64,
   "id": "29e59181-1ad6-40c6-8e7e-8fa0eb376a34",
   "metadata": {},
   "outputs": [
    {
     "data": {
      "image/png": "[encoded data removed]",
      "text/plain": [
       "<Figure size 432x288 with 1 Axes>"
      ]
     },
     "metadata": {
      "needs_background": "light"
     },
     "output_type": "display_data"
    }
   ],
   "source": [
    "# Bar plot showing test scores for all three models\n",
    "models = [\"LR\", \"KNN\", \"RF\", \"SVC\"]\n",
    "test_scores = [lg_test_score, knn_test_score, rf_test_score, svc_test_score]\n",
    "\n",
    "fig = plt.figure()\n",
    "ax = fig.add_axes([0,0,1,1])\n",
    "ax.bar(models,test_scores)\n",
    "plt.show()"
   ]
  },
  {
   "cell_type": "code",
   "execution_count": 68,
   "id": "176cb7c6-bf19-49dc-8c32-17242543fb8c",
   "metadata": {},
   "outputs": [],
   "source": [
    "scaler_filename = \"ML/scaler.sav\"\n",
    "pickle.dump(scaler, open(scaler_filename, 'wb'))\n",
    "\n",
    "model_filename = \"ML/knn_model.sav\"\n",
    "pickle.dump(knn, open(model_filename, 'wb'))"
   ]
  }
 ],
 "metadata": {
  "kernelspec": {
   "display_name": "Python 3",
   "language": "python",
   "name": "python3"
  },
  "language_info": {
   "codemirror_mode": {
    "name": "ipython",
    "version": 3
   },
   "file_extension": ".py",
   "mimetype": "text/x-python",
   "name": "python",
   "nbconvert_exporter": "python",
   "pygments_lexer": "ipython3",
   "version": "3.8.8"
  }
 },
 "nbformat": 4,
 "nbformat_minor": 5
}
